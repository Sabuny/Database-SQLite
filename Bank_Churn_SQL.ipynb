{
 "cells": [
  {
   "cell_type": "markdown",
   "id": "6a63efb5-cb77-4ac7-8402-17ecc11a7e33",
   "metadata": {},
   "source": [
    "### Customer Segmentation (Bank Churn)\n",
    "Customer segmentation helps in understanding which types of customers are more likely to leave the bank and why.This analysis involves aspects of customer segmentation because different customer groups may have varying churn behaviors.\n",
    "#### Objective\n",
    "Develop a database, extract and analyze customer data to gain insights into their behavior and provide key findings along with strategic recommendations to help retain customers who are at risk of leaving.\n",
    "#### How Customer Segmentation Relates to Bank Churn Analysis?\n",
    "#### Demographic Segmentation\n",
    "* Age groups (young, middle-aged,aged)\n",
    "* Gender (Male vs. Female churn rates)\n",
    "* Geography (Churn rates by country/city/branch)\n",
    "#### Behavioral Segmentation\n",
    "* Transaction frequency.\n",
    "* Number of products held (credit cards, loans, savings accounts etc)\n",
    "* Tenure with the bank (new vs. long-term customers etc)\n",
    "* Account balance (low vs. high-balance customers etc)\n",
    "* Salary/Income\n",
    "\n",
    "The dataset is available in link and includes the following features:\n",
    "\n",
    "* **CustomerId:** A unique identifier for each customer.\n",
    "* **Surname:** The customer's last name.\n",
    "* **Geography:** The country where the customer resides (France, Spain, or Germany)\n",
    "* **Gender:** The customer's gender (Male or Female).\n",
    "* **Age:** The customer's age.\n",
    "* **Tenure:** The number of years the customer has been with the bank.\n",
    "* **Balance:** The customer's account balance.\n",
    "* **NumOfProducts:** The number of bank products the customer uses (e.g., savings account, credit card).\n",
    "* **IsActiveMember:** Whether the customer is an active member (1 = yes, 0 = no).\n",
    "* **EstimatedSalary:** The customer's estimated salary.\n",
    "* **Exited:** Whether the customer has churned (1 = yes, 0 = no)."
   ]
  },
  {
   "cell_type": "code",
   "execution_count": 1,
   "id": "13310a4f-546a-47c6-b385-3c374418eb14",
   "metadata": {},
   "outputs": [],
   "source": [
    "#importing libraries\n",
    "import sqlite3\n",
    "import pandas as pd\n",
    "import numpy as np\n",
    "import matplotlib.pyplot as plt\n",
    "import seaborn as sns"
   ]
  },
  {
   "cell_type": "code",
   "execution_count": 2,
   "id": "7d1b5cbc-976c-4cf4-8dc3-a7e05efae6a1",
   "metadata": {},
   "outputs": [],
   "source": [
    "#importing dataset\n",
    "df=pd.read_csv(\"Bank_Churn.csv\")\n",
    "display(df.head())"
   ]
  },
  {
   "cell_type": "markdown",
   "id": "7a8aad99-5e7b-4fd6-82eb-4d16b93fdca4",
   "metadata": {},
   "source": [
    "#### Data Exploration"
   ]
  },
  {
   "cell_type": "code",
   "execution_count": 3,
   "id": "1d884221-b0d2-44fa-bbe5-86200add127d",
   "metadata": {},
   "outputs": [
    {
     "data": {
      "text/plain": [
       "Index(['CustomerId', 'Surname', 'CreditScore', 'Geography', 'Gender', 'Age',\n",
       "       'Tenure', 'Balance', 'NumOfProducts', 'HasCrCard', 'IsActiveMember',\n",
       "       'EstimatedSalary', 'Exited'],\n",
       "      dtype='object')"
      ]
     },
     "execution_count": 3,
     "metadata": {},
     "output_type": "execute_result"
    }
   ],
   "source": [
    "print(f\"\\nDataset Information: {df.info()}\")\n",
    "print(f\"\\nMissing values present: {df.isna().any()}\")\n",
    "print(f\"\\nDuplicated values present: {df.duplicated().any()}\")\n",
    "print(f\"\\nData types: {df.dtypes}\")"
   ]
  },
  {
   "cell_type": "markdown",
   "id": "2aafcfd3-e3e8-4a14-9801-4683b60769d4",
   "metadata": {},
   "source": [
    "#### Building the Database\n",
    "Lets create a database called **Bank** that will have one table called **Clients_Profile**."
   ]
  },
  {
   "cell_type": "code",
   "execution_count": 7,
   "id": "59c8236f-5ad6-4a49-88b7-04e5336fe811",
   "metadata": {},
   "outputs": [
    {
     "name": "stdout",
     "output_type": "stream",
     "text": [
      "Table 'Clients_Profile' created successfully\n",
      "============================================================\n",
      "Data uploaded to 'Clients_Profile' table successfully!\n"
     ]
    }
   ],
   "source": [
    "#Defining the path of the database\n",
    "db_path =r\"C:\\Users\\USER\\Desktop\\My Work\\Database-SQLite\\Bank.db\"\n",
    "#XConnecting to the database\n",
    "conn =sqlite3.connect(db_path)\n",
    "cursor =conn.cursor()\n",
    "#creating the table\n",
    "table = \"\"\"\n",
    "CREATE TABLE IF NOT EXISTS Clients_Profile (\n",
    "    CustomerId INTEGER PRIMARY KEY,\n",
    "    Surname TEXT,\n",
    "    CreditScore INTEGER,\n",
    "    Geography TEXT,\n",
    "    Gender TEXT,\n",
    "    Age INTEGER,\n",
    "    Tenure INTEGER,\n",
    "    Balance INTEGER,\n",
    "    NumOfProducts INTEGER,\n",
    "    HasCrCard INTEGER,\n",
    "    IsActiveMember REAL,\n",
    "    EstimatedSalary INTEGER,\n",
    "    Exited INTEGER\n",
    ");\n",
    "\"\"\"\n",
    "cursor.execute(table)\n",
    "conn.commit()\n",
    "print(\"Table 'Clients_Profile' created successfully\")\n",
    "print(\"===\" * 20)\n",
    "#Importing the dataframe to the database\n",
    "df.to_sql(\"Clients_Profile\",conn,if_exists=\"replace\",index=False)\n",
    "print(\"Data uploaded to 'Clients_Profile' table successfully!\")"
   ]
  },
  {
   "cell_type": "markdown",
   "id": "dbeba7fa-cbcc-4c11-8174-84e4f9dc1f9b",
   "metadata": {},
   "source": [
    "#### Lets view the first 5 rows of the table"
   ]
  },
  {
   "cell_type": "code",
   "execution_count": 8,
   "id": "e3268c58-3746-415c-8bea-4c8e864cf800",
   "metadata": {},
   "outputs": [
    {
     "data": {
      "text/html": [
       "<div>\n",
       "<style scoped>\n",
       "    .dataframe tbody tr th:only-of-type {\n",
       "        vertical-align: middle;\n",
       "    }\n",
       "\n",
       "    .dataframe tbody tr th {\n",
       "        vertical-align: top;\n",
       "    }\n",
       "\n",
       "    .dataframe thead th {\n",
       "        text-align: right;\n",
       "    }\n",
       "</style>\n",
       "<table border=\"1\" class=\"dataframe\">\n",
       "  <thead>\n",
       "    <tr style=\"text-align: right;\">\n",
       "      <th></th>\n",
       "      <th>CustomerId</th>\n",
       "      <th>Surname</th>\n",
       "      <th>CreditScore</th>\n",
       "      <th>Geography</th>\n",
       "      <th>Gender</th>\n",
       "      <th>Age</th>\n",
       "      <th>Tenure</th>\n",
       "      <th>Balance</th>\n",
       "      <th>NumOfProducts</th>\n",
       "      <th>HasCrCard</th>\n",
       "      <th>IsActiveMember</th>\n",
       "      <th>EstimatedSalary</th>\n",
       "      <th>Exited</th>\n",
       "    </tr>\n",
       "  </thead>\n",
       "  <tbody>\n",
       "    <tr>\n",
       "      <th>0</th>\n",
       "      <td>15634602</td>\n",
       "      <td>Hargrave</td>\n",
       "      <td>619</td>\n",
       "      <td>France</td>\n",
       "      <td>Female</td>\n",
       "      <td>42</td>\n",
       "      <td>2</td>\n",
       "      <td>0.00</td>\n",
       "      <td>1</td>\n",
       "      <td>1</td>\n",
       "      <td>1</td>\n",
       "      <td>101348.88</td>\n",
       "      <td>1</td>\n",
       "    </tr>\n",
       "    <tr>\n",
       "      <th>1</th>\n",
       "      <td>15647311</td>\n",
       "      <td>Hill</td>\n",
       "      <td>608</td>\n",
       "      <td>Spain</td>\n",
       "      <td>Female</td>\n",
       "      <td>41</td>\n",
       "      <td>1</td>\n",
       "      <td>83807.86</td>\n",
       "      <td>1</td>\n",
       "      <td>0</td>\n",
       "      <td>1</td>\n",
       "      <td>112542.58</td>\n",
       "      <td>0</td>\n",
       "    </tr>\n",
       "    <tr>\n",
       "      <th>2</th>\n",
       "      <td>15619304</td>\n",
       "      <td>Onio</td>\n",
       "      <td>502</td>\n",
       "      <td>France</td>\n",
       "      <td>Female</td>\n",
       "      <td>42</td>\n",
       "      <td>8</td>\n",
       "      <td>159660.80</td>\n",
       "      <td>3</td>\n",
       "      <td>1</td>\n",
       "      <td>0</td>\n",
       "      <td>113931.57</td>\n",
       "      <td>1</td>\n",
       "    </tr>\n",
       "    <tr>\n",
       "      <th>3</th>\n",
       "      <td>15701354</td>\n",
       "      <td>Boni</td>\n",
       "      <td>699</td>\n",
       "      <td>France</td>\n",
       "      <td>Female</td>\n",
       "      <td>39</td>\n",
       "      <td>1</td>\n",
       "      <td>0.00</td>\n",
       "      <td>2</td>\n",
       "      <td>0</td>\n",
       "      <td>0</td>\n",
       "      <td>93826.63</td>\n",
       "      <td>0</td>\n",
       "    </tr>\n",
       "    <tr>\n",
       "      <th>4</th>\n",
       "      <td>15737888</td>\n",
       "      <td>Mitchell</td>\n",
       "      <td>850</td>\n",
       "      <td>Spain</td>\n",
       "      <td>Female</td>\n",
       "      <td>43</td>\n",
       "      <td>2</td>\n",
       "      <td>125510.82</td>\n",
       "      <td>1</td>\n",
       "      <td>1</td>\n",
       "      <td>1</td>\n",
       "      <td>79084.10</td>\n",
       "      <td>0</td>\n",
       "    </tr>\n",
       "  </tbody>\n",
       "</table>\n",
       "</div>"
      ],
      "text/plain": [
       "   CustomerId   Surname  CreditScore Geography  Gender  Age  Tenure  \\\n",
       "0    15634602  Hargrave          619    France  Female   42       2   \n",
       "1    15647311      Hill          608     Spain  Female   41       1   \n",
       "2    15619304      Onio          502    France  Female   42       8   \n",
       "3    15701354      Boni          699    France  Female   39       1   \n",
       "4    15737888  Mitchell          850     Spain  Female   43       2   \n",
       "\n",
       "     Balance  NumOfProducts  HasCrCard  IsActiveMember  EstimatedSalary  \\\n",
       "0       0.00              1          1               1        101348.88   \n",
       "1   83807.86              1          0               1        112542.58   \n",
       "2  159660.80              3          1               0        113931.57   \n",
       "3       0.00              2          0               0         93826.63   \n",
       "4  125510.82              1          1               1         79084.10   \n",
       "\n",
       "   Exited  \n",
       "0       1  \n",
       "1       0  \n",
       "2       1  \n",
       "3       0  \n",
       "4       0  "
      ]
     },
     "metadata": {},
     "output_type": "display_data"
    }
   ],
   "source": [
    "query =\"SELECT* FROM Clients_Profile LIMIT 5\"\n",
    "dff =pd.read_sql(query,conn)\n",
    "display(dff.head(5))"
   ]
  },
  {
   "cell_type": "markdown",
   "id": "210a93f2-09e2-44c3-851e-bceeed5e4e98",
   "metadata": {},
   "source": [
    "#### a) How many clients does the Bank serve?"
   ]
  },
  {
   "cell_type": "code",
   "execution_count": 9,
   "id": "58d45669-941f-4c78-b379-1c620208d398",
   "metadata": {},
   "outputs": [
    {
     "name": "stdout",
     "output_type": "stream",
     "text": [
      "The bank serves 10000 customers\n"
     ]
    }
   ],
   "source": [
    "cursor.execute(\"SELECT COUNT(DISTINCT CustomerId) FROM Clients_Profile\")\n",
    "distinct_count =cursor.fetchone()[0]\n",
    "print(f\"\\nThe bank provides services to {distinct_count} customers.\")"
   ]
  },
  {
   "cell_type": "markdown",
   "id": "0072e451-88ea-43c5-bacf-b6567b450c0e",
   "metadata": {},
   "source": [
    "#### b) How many customers have Exited/Churned and whats the Churn Rate?"
   ]
  },
  {
   "cell_type": "code",
   "execution_count": 10,
   "id": "a4e0b618-faf7-41ac-96e1-8d489cc71a84",
   "metadata": {},
   "outputs": [
    {
     "name": "stdout",
     "output_type": "stream",
     "text": [
      "Out of 10000 customers, 2037 have exited the bank\n",
      "\n",
      "Churn Rate: 20.37%\n"
     ]
    }
   ],
   "source": [
    "cursor.execute(\"SELECT * FROM Clients_Profile WHERE Exited = 1\")\n",
    "exited =len(cursor.fetchall())\n",
    "print(f\"Among the bank's {distinct_count} customers, {exited} have churned.\")\n",
    "print()\n",
    "print(f\"The churn rate is {((exited/10000) * 100):.2f}%.\")"
   ]
  },
  {
   "cell_type": "markdown",
   "id": "81ba254f-8b39-45db-a35e-367ca038bf3d",
   "metadata": {},
   "source": [
    "#### c) Churn Rate by Geography?"
   ]
  },
  {
   "cell_type": "code",
   "execution_count": 11,
   "id": "38b67393-07d3-433d-a146-c2e191ac3a76",
   "metadata": {},
   "outputs": [
    {
     "data": {
      "text/html": [
       "<div>\n",
       "<style scoped>\n",
       "    .dataframe tbody tr th:only-of-type {\n",
       "        vertical-align: middle;\n",
       "    }\n",
       "\n",
       "    .dataframe tbody tr th {\n",
       "        vertical-align: top;\n",
       "    }\n",
       "\n",
       "    .dataframe thead th {\n",
       "        text-align: right;\n",
       "    }\n",
       "</style>\n",
       "<table border=\"1\" class=\"dataframe\">\n",
       "  <thead>\n",
       "    <tr style=\"text-align: right;\">\n",
       "      <th></th>\n",
       "      <th>Geography</th>\n",
       "      <th>Total_Customers</th>\n",
       "      <th>Churned_Count</th>\n",
       "      <th>Churn_Rate(%)</th>\n",
       "    </tr>\n",
       "  </thead>\n",
       "  <tbody>\n",
       "    <tr>\n",
       "      <th>0</th>\n",
       "      <td>Germany</td>\n",
       "      <td>2509</td>\n",
       "      <td>814</td>\n",
       "      <td>32.44</td>\n",
       "    </tr>\n",
       "    <tr>\n",
       "      <th>1</th>\n",
       "      <td>Spain</td>\n",
       "      <td>2477</td>\n",
       "      <td>413</td>\n",
       "      <td>16.67</td>\n",
       "    </tr>\n",
       "    <tr>\n",
       "      <th>2</th>\n",
       "      <td>France</td>\n",
       "      <td>5014</td>\n",
       "      <td>810</td>\n",
       "      <td>16.15</td>\n",
       "    </tr>\n",
       "  </tbody>\n",
       "</table>\n",
       "</div>"
      ],
      "text/plain": [
       "  Geography  Total_Customers  Churned_Count  Churn_Rate(%)\n",
       "0   Germany             2509            814          32.44\n",
       "1     Spain             2477            413          16.67\n",
       "2    France             5014            810          16.15"
      ]
     },
     "metadata": {},
     "output_type": "display_data"
    }
   ],
   "source": [
    "query =\"\"\"\n",
    "SELECT \n",
    "    Geography,\n",
    "    COUNT(*) as Total_Customers,\n",
    "    SUM(Exited) AS Churned_Count,\n",
    "    ROUND(100.0 * SUM(Exited) / COUNT(*), 2) AS \"Churn_Rate(%)\"\n",
    "FROM Clients_Profile\n",
    "GROUP BY Geography\n",
    "ORDER BY \"Churn_Rate(%)\" DESC\n",
    "\"\"\"\n",
    "dff =pd.read_sql(query,conn)\n",
    "display(dff)"
   ]
  },
  {
   "cell_type": "markdown",
   "id": "f0b97555-e575-456c-9135-9195a9d7fb44",
   "metadata": {},
   "source": [
    "* Germany has the highest churn rate of 32.44% with a total of 814 customers leaving the bank.\n",
    "* France and Spain have similar churn rates of 16% half lower than Germany’s, indicating more customer retention.\n",
    "* Despite having 5,014 customers, France has a lower churn rate, suggesting better customer satisfaction or service."
   ]
  },
  {
   "cell_type": "markdown",
   "id": "6e464174-1303-4d9e-9944-b0cc0e48b73d",
   "metadata": {},
   "source": [
    "#### d) Churn Rate by Gender"
   ]
  },
  {
   "cell_type": "code",
   "execution_count": 12,
   "id": "ee37df0a-41b5-4087-b72f-4dff83a265a1",
   "metadata": {},
   "outputs": [
    {
     "data": {
      "text/html": [
       "<div>\n",
       "<style scoped>\n",
       "    .dataframe tbody tr th:only-of-type {\n",
       "        vertical-align: middle;\n",
       "    }\n",
       "\n",
       "    .dataframe tbody tr th {\n",
       "        vertical-align: top;\n",
       "    }\n",
       "\n",
       "    .dataframe thead th {\n",
       "        text-align: right;\n",
       "    }\n",
       "</style>\n",
       "<table border=\"1\" class=\"dataframe\">\n",
       "  <thead>\n",
       "    <tr style=\"text-align: right;\">\n",
       "      <th></th>\n",
       "      <th>Gender</th>\n",
       "      <th>Total_Customers</th>\n",
       "      <th>Churned_Count</th>\n",
       "      <th>Churn_Rate(%)</th>\n",
       "    </tr>\n",
       "  </thead>\n",
       "  <tbody>\n",
       "    <tr>\n",
       "      <th>0</th>\n",
       "      <td>Female</td>\n",
       "      <td>4543</td>\n",
       "      <td>1139</td>\n",
       "      <td>25.07</td>\n",
       "    </tr>\n",
       "    <tr>\n",
       "      <th>1</th>\n",
       "      <td>Male</td>\n",
       "      <td>5457</td>\n",
       "      <td>898</td>\n",
       "      <td>16.46</td>\n",
       "    </tr>\n",
       "  </tbody>\n",
       "</table>\n",
       "</div>"
      ],
      "text/plain": [
       "   Gender  Total_Customers  Churned_Count  Churn_Rate(%)\n",
       "0  Female             4543           1139          25.07\n",
       "1    Male             5457            898          16.46"
      ]
     },
     "metadata": {},
     "output_type": "display_data"
    }
   ],
   "source": [
    "query =\"\"\"\n",
    "SELECT Gender,\n",
    "       COUNT(*) AS Total_Customers,\n",
    "       SUM(Exited) AS Churned_Count,\n",
    "       ROUND(100.0 * SUM(Exited) / COUNT(*), 2) AS \"Churn_Rate(%)\"\n",
    "FROM Clients_Profile\n",
    "GROUP BY Gender\n",
    "ORDER BY \"Churn_Rate(%)\" DESC\n",
    "\"\"\"\n",
    "dff =pd.read_sql(query,conn)\n",
    "display(dff.head())"
   ]
  },
  {
   "cell_type": "markdown",
   "id": "e422f87e-eb1c-43cc-bcee-be07cfbf0721",
   "metadata": {},
   "source": [
    "* The majority of customers are male, totaling 5,457, compared to females. However, females have a higher churn rate (25.07%) compared to males (16.46%).\n",
    "* The bank may need to explore why female customers are leaving,could it be service preferences, product offerings or customer experience."
   ]
  },
  {
   "cell_type": "markdown",
   "id": "c04cd820-d95c-4cac-af7f-5798f04b5b0c",
   "metadata": {},
   "source": [
    "#### e) Age distribution and churn rate"
   ]
  },
  {
   "cell_type": "code",
   "execution_count": 13,
   "id": "26e08bdc-3628-4f14-9ddb-4388ea199c8b",
   "metadata": {},
   "outputs": [
    {
     "name": "stdout",
     "output_type": "stream",
     "text": [
      "\n",
      "The oldest customer is 92 years old\n",
      "\n",
      "The youngest customer is 18 years old\n"
     ]
    }
   ],
   "source": [
    "cursor.execute(\"SELECT MAX(Age) FROM Clients_Profile\")\n",
    "max_age =cursor.fetchone()[0]\n",
    "cursor.execute(\"SELECT MIN(Age) FROM Clients_Profile\")\n",
    "min_age =cursor.fetchone()[0]\n",
    "print(f\"\\nThe oldest customer is {max_age} years old\")\n",
    "print(f\"\\nThe youngest customer is {min_age} years old\")"
   ]
  },
  {
   "cell_type": "code",
   "execution_count": 14,
   "id": "2d4651d0-5501-4ebf-a4cf-e813976b6fe5",
   "metadata": {},
   "outputs": [
    {
     "data": {
      "text/html": [
       "<div>\n",
       "<style scoped>\n",
       "    .dataframe tbody tr th:only-of-type {\n",
       "        vertical-align: middle;\n",
       "    }\n",
       "\n",
       "    .dataframe tbody tr th {\n",
       "        vertical-align: top;\n",
       "    }\n",
       "\n",
       "    .dataframe thead th {\n",
       "        text-align: right;\n",
       "    }\n",
       "</style>\n",
       "<table border=\"1\" class=\"dataframe\">\n",
       "  <thead>\n",
       "    <tr style=\"text-align: right;\">\n",
       "      <th></th>\n",
       "      <th>Age_Group</th>\n",
       "      <th>Total_Customers</th>\n",
       "      <th>Churn_Count</th>\n",
       "      <th>Churn_Rate(%)</th>\n",
       "    </tr>\n",
       "  </thead>\n",
       "  <tbody>\n",
       "    <tr>\n",
       "      <th>0</th>\n",
       "      <td>51-60</td>\n",
       "      <td>797</td>\n",
       "      <td>448</td>\n",
       "      <td>56.21</td>\n",
       "    </tr>\n",
       "    <tr>\n",
       "      <th>1</th>\n",
       "      <td>60+</td>\n",
       "      <td>464</td>\n",
       "      <td>115</td>\n",
       "      <td>24.78</td>\n",
       "    </tr>\n",
       "    <tr>\n",
       "      <th>2</th>\n",
       "      <td>31-50</td>\n",
       "      <td>6771</td>\n",
       "      <td>1326</td>\n",
       "      <td>19.58</td>\n",
       "    </tr>\n",
       "    <tr>\n",
       "      <th>3</th>\n",
       "      <td>18-30</td>\n",
       "      <td>1968</td>\n",
       "      <td>148</td>\n",
       "      <td>7.52</td>\n",
       "    </tr>\n",
       "  </tbody>\n",
       "</table>\n",
       "</div>"
      ],
      "text/plain": [
       "  Age_Group  Total_Customers  Churn_Count  Churn_Rate(%)\n",
       "0     51-60              797          448          56.21\n",
       "1       60+              464          115          24.78\n",
       "2     31-50             6771         1326          19.58\n",
       "3     18-30             1968          148           7.52"
      ]
     },
     "metadata": {},
     "output_type": "display_data"
    }
   ],
   "source": [
    "query =\"\"\"\n",
    "SELECT \n",
    "    CASE\n",
    "        WHEN Age BETWEEN 18 AND 30 THEN '18-30'\n",
    "        WHEN Age BETWEEN 31 AND 50 THEN '31-50'\n",
    "        WHEN Age BETWEEN 51 AND 60 THEN '51-60'\n",
    "        ELSE '60+'\n",
    "    END AS Age_Group,\n",
    "    COUNT(*) AS Total_Customers,\n",
    "    SUM(Exited) AS Churn_Count,\n",
    "    ROUND(100.0 * SUM(Exited) / COUNT(*),2) AS \"Churn_Rate(%)\"\n",
    "FROM Clients_Profile\n",
    "GROUP BY Age_Group\n",
    "ORDER BY \"Churn_Rate(%)\" DESC\n",
    "\"\"\"\n",
    "dff =pd.read_sql(query,conn)\n",
    "display(dff.head())"
   ]
  },
  {
   "cell_type": "markdown",
   "id": "89f8cb36-7ceb-48ba-b5d7-3fc5a1887a8f",
   "metadata": {},
   "source": [
    "* Customers aged 51-60 have the highest churn rate of 56.21% with more than half of them leaving the bank.\n",
    "* Older customers age 60 years and above have a lower churn rate of 24.78% than the 51-60 group, possibly indicating greater loyalty.\n",
    "* The 31-50 group has the largest customer base of 6,771 customers but a moderate churn rate of 19.58%.\n",
    "* Churn decreases significantly with younger age groups, with the 18-30 group having the lowest churn rate of 7.52%.\n",
    "* The bank should investigate why mid-aged customers (51-60) leave at such high rates and tailor retention strategies accordingly."
   ]
  },
  {
   "cell_type": "markdown",
   "id": "4211639f-6f14-45c8-b214-b51eef275321",
   "metadata": {},
   "source": [
    "#### Salary Distribution"
   ]
  },
  {
   "cell_type": "code",
   "execution_count": 15,
   "id": "58318637-531a-49b4-9804-30ed72e2acee",
   "metadata": {},
   "outputs": [
    {
     "name": "stdout",
     "output_type": "stream",
     "text": [
      "\n",
      "The highest salary of a customer is $199992.48\n",
      "\n",
      "The lowest salary of a customer is $11.58\n"
     ]
    }
   ],
   "source": [
    "cursor.execute(\"SELECT MAX(EstimatedSalary) FROM Clients_Profile\")\n",
    "max_salary =cursor.fetchone()[0]\n",
    "cursor.execute(\"SELECT MIN(EstimatedSalary) FROM Clients_Profile\")\n",
    "min_salary =cursor.fetchone()[0]\n",
    "print(f\"\\nThe highest salary of a customer is ${max_salary}\")\n",
    "print(f\"\\nThe lowest salary of a customer is ${min_salary}\")"
   ]
  },
  {
   "cell_type": "code",
   "execution_count": 16,
   "id": "1bc42277-d38b-486a-92a2-22626cab7b39",
   "metadata": {},
   "outputs": [
    {
     "data": {
      "text/html": [
       "<div>\n",
       "<style scoped>\n",
       "    .dataframe tbody tr th:only-of-type {\n",
       "        vertical-align: middle;\n",
       "    }\n",
       "\n",
       "    .dataframe tbody tr th {\n",
       "        vertical-align: top;\n",
       "    }\n",
       "\n",
       "    .dataframe thead th {\n",
       "        text-align: right;\n",
       "    }\n",
       "</style>\n",
       "<table border=\"1\" class=\"dataframe\">\n",
       "  <thead>\n",
       "    <tr style=\"text-align: right;\">\n",
       "      <th></th>\n",
       "      <th>Salary_Group</th>\n",
       "      <th>Total_Customers</th>\n",
       "      <th>Churn_Count</th>\n",
       "      <th>Churn_Rate(%)</th>\n",
       "    </tr>\n",
       "  </thead>\n",
       "  <tbody>\n",
       "    <tr>\n",
       "      <th>0</th>\n",
       "      <td>150K-200K</td>\n",
       "      <td>2666</td>\n",
       "      <td>567</td>\n",
       "      <td>21.27</td>\n",
       "    </tr>\n",
       "    <tr>\n",
       "      <th>1</th>\n",
       "      <td>&lt;20K</td>\n",
       "      <td>931</td>\n",
       "      <td>190</td>\n",
       "      <td>20.41</td>\n",
       "    </tr>\n",
       "    <tr>\n",
       "      <th>2</th>\n",
       "      <td>100K-150K</td>\n",
       "      <td>2494</td>\n",
       "      <td>503</td>\n",
       "      <td>20.17</td>\n",
       "    </tr>\n",
       "    <tr>\n",
       "      <th>3</th>\n",
       "      <td>50K-100K</td>\n",
       "      <td>2495</td>\n",
       "      <td>498</td>\n",
       "      <td>19.96</td>\n",
       "    </tr>\n",
       "    <tr>\n",
       "      <th>4</th>\n",
       "      <td>20K-50K</td>\n",
       "      <td>1414</td>\n",
       "      <td>279</td>\n",
       "      <td>19.73</td>\n",
       "    </tr>\n",
       "  </tbody>\n",
       "</table>\n",
       "</div>"
      ],
      "text/plain": [
       "  Salary_Group  Total_Customers  Churn_Count  Churn_Rate(%)\n",
       "0    150K-200K             2666          567          21.27\n",
       "1         <20K              931          190          20.41\n",
       "2    100K-150K             2494          503          20.17\n",
       "3     50K-100K             2495          498          19.96\n",
       "4      20K-50K             1414          279          19.73"
      ]
     },
     "metadata": {},
     "output_type": "display_data"
    }
   ],
   "source": [
    "query =\"\"\"\n",
    "SELECT\n",
    "    CASE\n",
    "        WHEN EstimatedSalary BETWEEN 10 AND 19000 THEN '<20K'\n",
    "        WHEN EstimatedSalary BETWEEN 20000 AND 49000 THEN '20K-50K'\n",
    "        WHEN EstimatedSalary BETWEEN 50000 AND 99000 THEN '50K-100K'\n",
    "        WHEN EstimatedSalary BETWEEN 100000 AND 149000 THEN '100K-150K'\n",
    "        ELSE '150K-200K'\n",
    "    END AS Salary_Group,\n",
    "    COUNT(*) AS Total_Customers,\n",
    "    SUM(Exited) AS Churn_Count,\n",
    "    ROUND(100.0 * SUM(Exited) / COUNT(*),2) AS \"Churn_Rate(%)\"\n",
    "FROM Clients_Profile\n",
    "GROUP BY Salary_Group\n",
    "ORDER BY \"Churn_Rate(%)\" DESC\n",
    "\"\"\"\n",
    "dff =pd.read_sql(query,conn)\n",
    "display(dff.head())"
   ]
  },
  {
   "cell_type": "markdown",
   "id": "44e369ae-93c2-455f-b040-4af1f5ead806",
   "metadata": {},
   "source": [
    "* Customers earning 150K-200K have the highest churn rate (21.27%), suggesting high-income customers may have more banking options.\n",
    "* Lowest-income customers (<20K) also have a relatively high churn rate (20.41%), possibly due to financial instability.\n",
    "* Middle-income groups (20K-150K) have similar churn rates (~19-20%), indicating churn is not significantly influenced by salary within this range.\n",
    "* Retention strategies should focus on high-income customers (who may seek better services) and low-income customers (who may need financial support)."
   ]
  },
  {
   "cell_type": "markdown",
   "id": "bae6bbe9-8c3a-4d5c-a61a-daf95f96ac00",
   "metadata": {},
   "source": [
    "#### Credit Score Distribution"
   ]
  },
  {
   "cell_type": "code",
   "execution_count": 29,
   "id": "fdd8e237-0946-4465-a6b4-5c7cb20b5f20",
   "metadata": {},
   "outputs": [
    {
     "name": "stdout",
     "output_type": "stream",
     "text": [
      "\n",
      "The highest credit score is 850\n",
      "\n",
      "The lowest credit score is 350\n",
      "\n",
      "The average credit score is 651\n"
     ]
    }
   ],
   "source": [
    "cursor.execute(\"SELECT MAX(CreditScore) FROM Clients_Profile\")\n",
    "max_score =cursor.fetchone()[0]\n",
    "cursor.execute(\"SELECT MIN(CreditScore) FROM Clients_Profile\")\n",
    "min_score =cursor.fetchone()[0]\n",
    "cursor.execute(\"SELECT AVG(CreditScore) FROM Clients_Profile\")\n",
    "avg_score =cursor.fetchone()[0]\n",
    "print(f\"\\nThe highest credit score is {max_score}\")\n",
    "print(f\"\\nThe lowest credit score is {min_score}\")\n",
    "print(f\"\\nThe average credit score is {avg_score:.0f}\")"
   ]
  },
  {
   "cell_type": "code",
   "execution_count": 18,
   "id": "eeed5a81-b10e-48a5-886e-efea1c95d036",
   "metadata": {},
   "outputs": [
    {
     "data": {
      "text/html": [
       "<div>\n",
       "<style scoped>\n",
       "    .dataframe tbody tr th:only-of-type {\n",
       "        vertical-align: middle;\n",
       "    }\n",
       "\n",
       "    .dataframe tbody tr th {\n",
       "        vertical-align: top;\n",
       "    }\n",
       "\n",
       "    .dataframe thead th {\n",
       "        text-align: right;\n",
       "    }\n",
       "</style>\n",
       "<table border=\"1\" class=\"dataframe\">\n",
       "  <thead>\n",
       "    <tr style=\"text-align: right;\">\n",
       "      <th></th>\n",
       "      <th>CreditScore_Group</th>\n",
       "      <th>Total_Customers</th>\n",
       "      <th>Churn_Count</th>\n",
       "      <th>Churn_Rate(%)</th>\n",
       "    </tr>\n",
       "  </thead>\n",
       "  <tbody>\n",
       "    <tr>\n",
       "      <th>0</th>\n",
       "      <td>Low</td>\n",
       "      <td>632</td>\n",
       "      <td>150</td>\n",
       "      <td>23.73</td>\n",
       "    </tr>\n",
       "    <tr>\n",
       "      <th>1</th>\n",
       "      <td>Average</td>\n",
       "      <td>6220</td>\n",
       "      <td>1263</td>\n",
       "      <td>20.31</td>\n",
       "    </tr>\n",
       "    <tr>\n",
       "      <th>2</th>\n",
       "      <td>High</td>\n",
       "      <td>3148</td>\n",
       "      <td>624</td>\n",
       "      <td>19.82</td>\n",
       "    </tr>\n",
       "  </tbody>\n",
       "</table>\n",
       "</div>"
      ],
      "text/plain": [
       "  CreditScore_Group  Total_Customers  Churn_Count  Churn_Rate(%)\n",
       "0               Low              632          150          23.73\n",
       "1           Average             6220         1263          20.31\n",
       "2              High             3148          624          19.82"
      ]
     },
     "metadata": {},
     "output_type": "display_data"
    }
   ],
   "source": [
    "query =\"\"\"\n",
    "SELECT\n",
    "    CASE\n",
    "        WHEN CreditScore BETWEEN 350 AND 499 THEN 'Low'\n",
    "        WHEN CreditScore BETWEEN 500 AND 699 THEN 'Average'\n",
    "        ELSE 'High'\n",
    "    END AS CreditScore_Group,\n",
    "    COUNT(*) AS Total_Customers,\n",
    "    SUM(Exited) AS Churn_Count,\n",
    "    ROUND(100.0 * SUM(Exited) / COUNT(*),2) AS \"Churn_Rate(%)\"\n",
    "FROM Clients_Profile\n",
    "GROUP BY CreditScore_Group\n",
    "ORDER BY \"Churn_Rate(%)\" DESC\n",
    "\"\"\"\n",
    "dff =pd.read_sql(query,conn)\n",
    "display(dff.head())"
   ]
  },
  {
   "cell_type": "markdown",
   "id": "9ac95c5a-3ad3-4f98-91a7-9e97af8712cc",
   "metadata": {},
   "source": [
    "* Customers with low credit scores have the highest churn rate (23.73%), indicating financial instability or difficulty accessing bank services.\n",
    "* Average and high credit score groups have similar churn rates (~20%), suggesting credit score alone isn't a strong churn predictor.\n",
    "* The bank may need targeted retention strategies for low-credit customers, such as financial education or tailored loan options."
   ]
  },
  {
   "cell_type": "markdown",
   "id": "39e467a5-af71-4ddf-9987-db05c7790c8f",
   "metadata": {},
   "source": [
    "#### Tenure Distribution "
   ]
  },
  {
   "cell_type": "code",
   "execution_count": 28,
   "id": "ed8625fb-caf0-4550-a2c5-4542fe88ceeb",
   "metadata": {},
   "outputs": [
    {
     "name": "stdout",
     "output_type": "stream",
     "text": [
      "\n",
      "The longest years a customer has stayed with the bank is 10\n",
      "\n",
      "The shortest years a customer has stayed with the bank is 0\n",
      "\n",
      "The average tenure of a customer is 5\n"
     ]
    }
   ],
   "source": [
    "cursor.execute(\"SELECT MAX(Tenure) FROM Clients_Profile\")\n",
    "max_tenure =cursor.fetchone()[0]\n",
    "cursor.execute(\"SELECT MIN(Tenure) FROM Clients_Profile\")\n",
    "min_tenure =cursor.fetchone()[0]\n",
    "cursor.execute(\"SELECT AVG(Tenure) FROM Clients_Profile\")\n",
    "avg_tenure =cursor.fetchone()[0]\n",
    "print(f\"\\nThe longest years a customer has stayed with the bank is {max_tenure}\")\n",
    "print(f\"\\nThe shortest years a customer has stayed with the bank is {min_tenure}\")\n",
    "print(f\"\\nThe average tenure of a customer is {avg_tenure:.0f}\")"
   ]
  },
  {
   "cell_type": "code",
   "execution_count": 20,
   "id": "9947baaa-58fc-4785-971e-bf5abe57e545",
   "metadata": {},
   "outputs": [
    {
     "data": {
      "text/html": [
       "<div>\n",
       "<style scoped>\n",
       "    .dataframe tbody tr th:only-of-type {\n",
       "        vertical-align: middle;\n",
       "    }\n",
       "\n",
       "    .dataframe tbody tr th {\n",
       "        vertical-align: top;\n",
       "    }\n",
       "\n",
       "    .dataframe thead th {\n",
       "        text-align: right;\n",
       "    }\n",
       "</style>\n",
       "<table border=\"1\" class=\"dataframe\">\n",
       "  <thead>\n",
       "    <tr style=\"text-align: right;\">\n",
       "      <th></th>\n",
       "      <th>Tenure_Group</th>\n",
       "      <th>Total_Customers</th>\n",
       "      <th>Churn_Count</th>\n",
       "      <th>Churn_Rate(%)</th>\n",
       "    </tr>\n",
       "  </thead>\n",
       "  <tbody>\n",
       "    <tr>\n",
       "      <th>0</th>\n",
       "      <td>0-3</td>\n",
       "      <td>3505</td>\n",
       "      <td>741</td>\n",
       "      <td>21.14</td>\n",
       "    </tr>\n",
       "    <tr>\n",
       "      <th>1</th>\n",
       "      <td>8-10</td>\n",
       "      <td>2499</td>\n",
       "      <td>511</td>\n",
       "      <td>20.45</td>\n",
       "    </tr>\n",
       "    <tr>\n",
       "      <th>2</th>\n",
       "      <td>4-7</td>\n",
       "      <td>3996</td>\n",
       "      <td>785</td>\n",
       "      <td>19.64</td>\n",
       "    </tr>\n",
       "  </tbody>\n",
       "</table>\n",
       "</div>"
      ],
      "text/plain": [
       "  Tenure_Group  Total_Customers  Churn_Count  Churn_Rate(%)\n",
       "0          0-3             3505          741          21.14\n",
       "1         8-10             2499          511          20.45\n",
       "2          4-7             3996          785          19.64"
      ]
     },
     "metadata": {},
     "output_type": "display_data"
    }
   ],
   "source": [
    "query =\"\"\"\n",
    "SELECT\n",
    "    CASE\n",
    "        WHEN Tenure BETWEEN 0 AND 3 THEN '0-3'\n",
    "        WHEN Tenure BETWEEN 4 AND 7 THEN '4-7'\n",
    "        ELSE '8-10'\n",
    "    END AS Tenure_Group,\n",
    "    COUNT(*) AS Total_Customers,\n",
    "    SUM(Exited) AS Churn_Count,\n",
    "    ROUND(100.0 * SUM(Exited) / COUNT(*),2) AS \"Churn_Rate(%)\"\n",
    "FROM Clients_Profile\n",
    "GROUP BY Tenure_Group\n",
    "ORDER BY \"Churn_Rate(%)\" DESC\n",
    "\"\"\"\n",
    "dff =pd.read_sql(query,conn)\n",
    "display(dff)"
   ]
  },
  {
   "cell_type": "markdown",
   "id": "def89075-39af-4454-b110-c482bd24fd39",
   "metadata": {},
   "source": [
    "* Churn is highest (21.14%) among customers with a short tenure (0-3 years), indicating early-stage dissatisfaction or unmet expectations.\n",
    "* Customers with medium tenure (4-7 years) have the lowest churn rate (19.64%), suggesting higher engagement or satisfaction.\n",
    "* Longer-tenured customers (8-10 years) still experience notable churn (20.45%), possibly due to evolving needs or better offers from competitors.\n",
    "* The bank should focus on improving early customer experience to reduce churn in the first 3 years."
   ]
  },
  {
   "cell_type": "markdown",
   "id": "4415c33d-cea4-4537-8e61-78453fabbb89",
   "metadata": {},
   "source": [
    "#### Number of Products Distribution"
   ]
  },
  {
   "cell_type": "code",
   "execution_count": 31,
   "id": "6e9b723d-2bd1-44c0-a9e8-ea1ba9537a45",
   "metadata": {},
   "outputs": [
    {
     "name": "stdout",
     "output_type": "stream",
     "text": [
      "\n",
      "The bank offers 4 types of products\n",
      "\n",
      "The customers have an average of 2 products\n"
     ]
    }
   ],
   "source": [
    "cursor.execute(\"SELECT MAX(NumOfProducts) FROM Clients_Profile\")\n",
    "products =cursor.fetchone()[0]\n",
    "cursor.execute(\"SELECT AVG(NumOfProducts) FROM Clients_Profile\")\n",
    "avg_products =cursor.fetchone()[0]\n",
    "print(f\"\\nThe bank offers {products} types of products\")\n",
    "print(f\"\\nThe customers have an average of {avg_products:.0f} products\")"
   ]
  },
  {
   "cell_type": "code",
   "execution_count": 22,
   "id": "4b991e64-5687-4627-8ed6-8c26c31a7e1f",
   "metadata": {},
   "outputs": [
    {
     "data": {
      "text/html": [
       "<div>\n",
       "<style scoped>\n",
       "    .dataframe tbody tr th:only-of-type {\n",
       "        vertical-align: middle;\n",
       "    }\n",
       "\n",
       "    .dataframe tbody tr th {\n",
       "        vertical-align: top;\n",
       "    }\n",
       "\n",
       "    .dataframe thead th {\n",
       "        text-align: right;\n",
       "    }\n",
       "</style>\n",
       "<table border=\"1\" class=\"dataframe\">\n",
       "  <thead>\n",
       "    <tr style=\"text-align: right;\">\n",
       "      <th></th>\n",
       "      <th>NumOfProducts</th>\n",
       "      <th>Total_Customers</th>\n",
       "      <th>Churn_Count</th>\n",
       "      <th>Churn_Rate(%)</th>\n",
       "    </tr>\n",
       "  </thead>\n",
       "  <tbody>\n",
       "    <tr>\n",
       "      <th>0</th>\n",
       "      <td>4</td>\n",
       "      <td>60</td>\n",
       "      <td>60</td>\n",
       "      <td>100.00</td>\n",
       "    </tr>\n",
       "    <tr>\n",
       "      <th>1</th>\n",
       "      <td>3</td>\n",
       "      <td>266</td>\n",
       "      <td>220</td>\n",
       "      <td>82.71</td>\n",
       "    </tr>\n",
       "    <tr>\n",
       "      <th>2</th>\n",
       "      <td>1</td>\n",
       "      <td>5084</td>\n",
       "      <td>1409</td>\n",
       "      <td>27.71</td>\n",
       "    </tr>\n",
       "    <tr>\n",
       "      <th>3</th>\n",
       "      <td>2</td>\n",
       "      <td>4590</td>\n",
       "      <td>348</td>\n",
       "      <td>7.58</td>\n",
       "    </tr>\n",
       "  </tbody>\n",
       "</table>\n",
       "</div>"
      ],
      "text/plain": [
       "   NumOfProducts  Total_Customers  Churn_Count  Churn_Rate(%)\n",
       "0              4               60           60         100.00\n",
       "1              3              266          220          82.71\n",
       "2              1             5084         1409          27.71\n",
       "3              2             4590          348           7.58"
      ]
     },
     "metadata": {},
     "output_type": "display_data"
    }
   ],
   "source": [
    "query =\"\"\"\n",
    "SELECT\n",
    "    NumOfProducts,\n",
    "    COUNT(*) AS Total_Customers,\n",
    "    SUM(Exited) AS Churn_Count,\n",
    "    ROUND(100.0 * SUM(Exited) / COUNT(*),2) AS \"Churn_Rate(%)\"\n",
    "FROM Clients_Profile\n",
    "GROUP BY NumOfProducts\n",
    "ORDER BY \"Churn_Rate(%)\" DESC\n",
    "\"\"\"\n",
    "dff =pd.read_sql(query,conn)\n",
    "display(dff.head())"
   ]
  },
  {
   "cell_type": "markdown",
   "id": "ec12c5d5-42cc-42c5-bdef-808adcb90e19",
   "metadata": {},
   "source": [
    "* Customers with 4 products have a 100% churn rate, indicating dissatisfaction or forced retention strategies leading to exits.\n",
    "* Customers with 3 products also have an extremely high churn rate (82.71%), suggesting that having more than 2 products may not improve loyalty.\n",
    "* Customers with 1 product have a significantly higher churn rate (27.71%) compared to those with 2 products (7.58%), implying that multi-product engagement enhances retention.\n",
    "* The bank should focus on encouraging customers with 1 product to adopt a second one while investigating why those with 3+ products churn at such high rates."
   ]
  },
  {
   "cell_type": "markdown",
   "id": "992e97ce-042e-4044-893d-d18974d22047",
   "metadata": {},
   "source": [
    "#### Has Credit Card Distribution"
   ]
  },
  {
   "cell_type": "code",
   "execution_count": 23,
   "id": "9db16604-debf-4216-824d-1d45f899a4ed",
   "metadata": {},
   "outputs": [
    {
     "data": {
      "text/html": [
       "<div>\n",
       "<style scoped>\n",
       "    .dataframe tbody tr th:only-of-type {\n",
       "        vertical-align: middle;\n",
       "    }\n",
       "\n",
       "    .dataframe tbody tr th {\n",
       "        vertical-align: top;\n",
       "    }\n",
       "\n",
       "    .dataframe thead th {\n",
       "        text-align: right;\n",
       "    }\n",
       "</style>\n",
       "<table border=\"1\" class=\"dataframe\">\n",
       "  <thead>\n",
       "    <tr style=\"text-align: right;\">\n",
       "      <th></th>\n",
       "      <th>HasCrCard</th>\n",
       "      <th>Total_Customers</th>\n",
       "      <th>Churn_Count</th>\n",
       "      <th>Churn_Rate(%)</th>\n",
       "    </tr>\n",
       "  </thead>\n",
       "  <tbody>\n",
       "    <tr>\n",
       "      <th>0</th>\n",
       "      <td>0</td>\n",
       "      <td>2945</td>\n",
       "      <td>613</td>\n",
       "      <td>20.81</td>\n",
       "    </tr>\n",
       "    <tr>\n",
       "      <th>1</th>\n",
       "      <td>1</td>\n",
       "      <td>7055</td>\n",
       "      <td>1424</td>\n",
       "      <td>20.18</td>\n",
       "    </tr>\n",
       "  </tbody>\n",
       "</table>\n",
       "</div>"
      ],
      "text/plain": [
       "   HasCrCard  Total_Customers  Churn_Count  Churn_Rate(%)\n",
       "0          0             2945          613          20.81\n",
       "1          1             7055         1424          20.18"
      ]
     },
     "metadata": {},
     "output_type": "display_data"
    }
   ],
   "source": [
    "query =\"\"\"\n",
    "SELECT \n",
    "    HasCrCard,\n",
    "    COUNT(*) AS Total_Customers,\n",
    "    SUM(Exited) AS Churn_Count,\n",
    "    ROUND(100.0 * SUM(Exited) / COUNT(*),2) AS \"Churn_Rate(%)\"\n",
    "FROM Clients_Profile\n",
    "GROUP BY HasCrCard\n",
    "ORDER BY \"Churn_Rate(%)\" DESC\n",
    "\"\"\"\n",
    "dff =pd.read_sql(query,conn)\n",
    "display(dff.head())"
   ]
  },
  {
   "cell_type": "markdown",
   "id": "4279f2e4-59e5-490f-8374-6e4add8be3ec",
   "metadata": {},
   "source": [
    "* Churn rates are nearly identical for customers with (20.18%) and without (20.81%) a credit card, suggesting that having a credit card does not significantly impact retention.\n",
    "* Since both groups churn at similar rates, other factors (e.g., products, tenure, geography) likely have a stronger influence on customer exits.\n",
    "The bank may need to explore how credit card usage, rather than just ownership, affects customer loyalty."
   ]
  },
  {
   "cell_type": "markdown",
   "id": "42d4c4f3-96a5-4bda-b2e5-dc469ff22f93",
   "metadata": {},
   "source": [
    "### Is Active Members Distribution"
   ]
  },
  {
   "cell_type": "code",
   "execution_count": 24,
   "id": "69d03cc4-61fa-469a-9978-41078072259a",
   "metadata": {},
   "outputs": [
    {
     "data": {
      "text/html": [
       "<div>\n",
       "<style scoped>\n",
       "    .dataframe tbody tr th:only-of-type {\n",
       "        vertical-align: middle;\n",
       "    }\n",
       "\n",
       "    .dataframe tbody tr th {\n",
       "        vertical-align: top;\n",
       "    }\n",
       "\n",
       "    .dataframe thead th {\n",
       "        text-align: right;\n",
       "    }\n",
       "</style>\n",
       "<table border=\"1\" class=\"dataframe\">\n",
       "  <thead>\n",
       "    <tr style=\"text-align: right;\">\n",
       "      <th></th>\n",
       "      <th>IsActiveMember</th>\n",
       "      <th>Total_Customers</th>\n",
       "      <th>Churn_Count</th>\n",
       "      <th>Churn_Rate(%)</th>\n",
       "    </tr>\n",
       "  </thead>\n",
       "  <tbody>\n",
       "    <tr>\n",
       "      <th>0</th>\n",
       "      <td>0</td>\n",
       "      <td>4849</td>\n",
       "      <td>1302</td>\n",
       "      <td>26.85</td>\n",
       "    </tr>\n",
       "    <tr>\n",
       "      <th>1</th>\n",
       "      <td>1</td>\n",
       "      <td>5151</td>\n",
       "      <td>735</td>\n",
       "      <td>14.27</td>\n",
       "    </tr>\n",
       "  </tbody>\n",
       "</table>\n",
       "</div>"
      ],
      "text/plain": [
       "   IsActiveMember  Total_Customers  Churn_Count  Churn_Rate(%)\n",
       "0               0             4849         1302          26.85\n",
       "1               1             5151          735          14.27"
      ]
     },
     "metadata": {},
     "output_type": "display_data"
    }
   ],
   "source": [
    "query =\"\"\"\n",
    "SELECT \n",
    "    IsActiveMember,\n",
    "    COUNT(*) AS Total_Customers,\n",
    "    SUM(Exited) AS Churn_Count,\n",
    "    ROUND(100.0 * SUM(Exited) / COUNT(*),2) AS \"Churn_Rate(%)\"\n",
    "FROM Clients_Profile\n",
    "GROUP BY IsActiveMember\n",
    "ORDER BY \"Churn_ Rate(%)\" \n",
    "\"\"\"\n",
    "dff =pd.read_sql(query,conn)\n",
    "display(dff.head())"
   ]
  },
  {
   "cell_type": "markdown",
   "id": "f8d152d2-5c81-40f1-8a9f-379cd4e1caa5",
   "metadata": {},
   "source": [
    "* Inactive members have a much higher churn rate (26.85%) compared to active members (14.27%), indicating that engagement strongly influences retention.\n",
    "* Despite a similar number of total customers, inactive members account for nearly twice as many churned customers (1,302 vs. 735).\n",
    "* The bank should implement engagement strategies (e.g., personalized offers, loyalty programs) to encourage inactive members to become more active and reduce churn."
   ]
  },
  {
   "cell_type": "markdown",
   "id": "f511fb80-b667-4293-b853-5ebac1c9f084",
   "metadata": {},
   "source": [
    "#### Recommendations\n",
    "* **Improve Retention for Older Customers (51-60 years):**\n",
    "Focus on understanding the specific reasons for high churn in this age group. Consider offering tailored financial products or services that address their unique needs and challenges.\n",
    "* **Enhance Female Customer Retention:**\n",
    "Investigate the reasons behind the higher churn rate among female customers and adjust services, communication, or product offerings to better meet their expectations.\n",
    "* **Target High-Income and Low-Income Customers:**\n",
    "For high-income customers (150K-200K), consider offering premium services or loyalty programs to increase retention.\n",
    "For low-income customers (<20K), implement financial support initiatives, such as budgeting tools or low-interest loans, to foster loyalty.\n",
    "* **Focus on Short Tenure Customers (0-3 years):**\n",
    "Improve early customer experiences, possibly through onboarding programs, personalized offers, or financial education to reduce churn in the first few years.\n",
    "* **Encourage Multi-Product Usage:**\n",
    "Promote bundling of products to customers with only one product, offering incentives for adopting additional products to increase retention. Investigate the high churn rates among customers with 3 or more products to identify pain points.\n",
    "* **Leverage Credit Cards to Increase Engagement:**\n",
    "While credit card ownership doesn’t directly reduce churn, focus on making credit card usage more attractive (e.g., rewards, benefits, lower interest rates) to keep customers engaged.\n",
    "* **Engage Inactive Members:**\n",
    "Develop re-engagement campaigns for inactive members (e.g., personalized offers, reminders, or product recommendations) to lower churn and boost retention.\n",
    "* **Segment Retention Strategies Based on Age and Tenure:**\n",
    "Offer targeted products or retention strategies for different age groups and tenure levels, e.g., offering retirement-focused products for older customers or specialized loans for customers with longer tenures."
   ]
  },
  {
   "cell_type": "code",
   "execution_count": null,
   "id": "e63bc5f4-951f-4c2d-a89b-150c84758e2f",
   "metadata": {},
   "outputs": [],
   "source": []
  }
 ],
 "metadata": {
  "kernelspec": {
   "display_name": "Python 3 (ipykernel)",
   "language": "python",
   "name": "python3"
  },
  "language_info": {
   "codemirror_mode": {
    "name": "ipython",
    "version": 3
   },
   "file_extension": ".py",
   "mimetype": "text/x-python",
   "name": "python",
   "nbconvert_exporter": "python",
   "pygments_lexer": "ipython3",
   "version": "3.12.2"
  }
 },
 "nbformat": 4,
 "nbformat_minor": 5
}
