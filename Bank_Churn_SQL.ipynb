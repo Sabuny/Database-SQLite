{
 "cells": [
  {
   "cell_type": "code",
   "execution_count": 1,
   "id": "13310a4f-546a-47c6-b385-3c374418eb14",
   "metadata": {},
   "outputs": [],
   "source": [
    "import sqlite3\n",
    "import pandas as pd\n",
    "import numpy as np\n",
    "import matplotlib.pyplot as plt\n",
    "import seaborn as sns"
   ]
  },
  {
   "cell_type": "code",
   "execution_count": 2,
   "id": "7d1b5cbc-976c-4cf4-8dc3-a7e05efae6a1",
   "metadata": {},
   "outputs": [],
   "source": [
    "df=pd.read_csv(\"Bank_Churn.csv\")"
   ]
  },
  {
   "cell_type": "code",
   "execution_count": 3,
   "id": "1d884221-b0d2-44fa-bbe5-86200add127d",
   "metadata": {},
   "outputs": [
    {
     "data": {
      "text/plain": [
       "Index(['CustomerId', 'Surname', 'CreditScore', 'Geography', 'Gender', 'Age',\n",
       "       'Tenure', 'Balance', 'NumOfProducts', 'HasCrCard', 'IsActiveMember',\n",
       "       'EstimatedSalary', 'Exited'],\n",
       "      dtype='object')"
      ]
     },
     "execution_count": 3,
     "metadata": {},
     "output_type": "execute_result"
    }
   ],
   "source": [
    "df.columns"
   ]
  },
  {
   "cell_type": "code",
   "execution_count": 4,
   "id": "284e5676",
   "metadata": {},
   "outputs": [
    {
     "data": {
      "text/plain": [
       "CustomerId         0\n",
       "Surname            0\n",
       "CreditScore        0\n",
       "Geography          0\n",
       "Gender             0\n",
       "Age                0\n",
       "Tenure             0\n",
       "Balance            0\n",
       "NumOfProducts      0\n",
       "HasCrCard          0\n",
       "IsActiveMember     0\n",
       "EstimatedSalary    0\n",
       "Exited             0\n",
       "dtype: int64"
      ]
     },
     "execution_count": 4,
     "metadata": {},
     "output_type": "execute_result"
    }
   ],
   "source": [
    "df.isna().sum()"
   ]
  },
  {
   "cell_type": "code",
   "execution_count": 5,
   "id": "888d119f-31a0-4945-b862-2fa94f3b0795",
   "metadata": {},
   "outputs": [
    {
     "data": {
      "text/plain": [
       "0"
      ]
     },
     "execution_count": 5,
     "metadata": {},
     "output_type": "execute_result"
    }
   ],
   "source": [
    "df.duplicated().sum()"
   ]
  },
  {
   "cell_type": "code",
   "execution_count": 6,
   "id": "f1abc515-2688-4b62-831f-16d6b9e6cabb",
   "metadata": {},
   "outputs": [
    {
     "data": {
      "text/plain": [
       "CustomerId           int64\n",
       "Surname             object\n",
       "CreditScore          int64\n",
       "Geography           object\n",
       "Gender              object\n",
       "Age                  int64\n",
       "Tenure               int64\n",
       "Balance            float64\n",
       "NumOfProducts        int64\n",
       "HasCrCard            int64\n",
       "IsActiveMember       int64\n",
       "EstimatedSalary    float64\n",
       "Exited               int64\n",
       "dtype: object"
      ]
     },
     "execution_count": 6,
     "metadata": {},
     "output_type": "execute_result"
    }
   ],
   "source": [
    "df.dtypes"
   ]
  },
  {
   "cell_type": "code",
   "execution_count": 30,
   "id": "59c8236f-5ad6-4a49-88b7-04e5336fe811",
   "metadata": {},
   "outputs": [
    {
     "name": "stdout",
     "output_type": "stream",
     "text": [
      "Table 'Clients_Profile' created successfully\n",
      "============================================================\n",
      "Data uploaded to 'Clients_Profile' table successfully!\n"
     ]
    }
   ],
   "source": [
    "df=pd.read_csv(\"Bank_Churn.csv\")\n",
    "db_path =r\"C:\\Users\\USER\\Desktop\\My Work\\Database-SQLite\\Bank.db\"\n",
    "conn =sqlite3.connect(db_path)\n",
    "cursor =conn.cursor()\n",
    "table = \"\"\"\n",
    "CREATE TABLE IF NOT EXISTS Clients_Profile (\n",
    "    CustomerId INTEGER PRIMARY KEY,\n",
    "    Surname TEXT,\n",
    "    CreditScore INTEGER,\n",
    "    Geography TEXT,\n",
    "    Gender TEXT,\n",
    "    Age INTEGER,\n",
    "    Tenure INTEGER,\n",
    "    Balance INTEGER,\n",
    "    NumOfProducts INTEGER,\n",
    "    HasCrCard INTEGER,\n",
    "    IsActiveMember REAL,\n",
    "    EstimatedSalary INTEGER,\n",
    "    Exited INTEGER\n",
    ");\n",
    "\"\"\"\n",
    "cursor.execute(table)\n",
    "conn.commit()\n",
    "print(\"Table 'Clients_Profile' created successfully\")\n",
    "print(\"===\" * 20)\n",
    "df.to_sql(\"Clients_Profile\",conn,if_exists=\"replace\",index=False)\n",
    "print(\"Data uploaded to 'Clients_Profile' table successfully!\")"
   ]
  },
  {
   "cell_type": "markdown",
   "id": "dbeba7fa-cbcc-4c11-8174-84e4f9dc1f9b",
   "metadata": {},
   "source": [
    "#### a) Lets view the first 5 rows of the table"
   ]
  },
  {
   "cell_type": "code",
   "execution_count": 8,
   "id": "e3268c58-3746-415c-8bea-4c8e864cf800",
   "metadata": {},
   "outputs": [
    {
     "data": {
      "text/html": [
       "<div>\n",
       "<style scoped>\n",
       "    .dataframe tbody tr th:only-of-type {\n",
       "        vertical-align: middle;\n",
       "    }\n",
       "\n",
       "    .dataframe tbody tr th {\n",
       "        vertical-align: top;\n",
       "    }\n",
       "\n",
       "    .dataframe thead th {\n",
       "        text-align: right;\n",
       "    }\n",
       "</style>\n",
       "<table border=\"1\" class=\"dataframe\">\n",
       "  <thead>\n",
       "    <tr style=\"text-align: right;\">\n",
       "      <th></th>\n",
       "      <th>CustomerId</th>\n",
       "      <th>Surname</th>\n",
       "      <th>CreditScore</th>\n",
       "      <th>Geography</th>\n",
       "      <th>Gender</th>\n",
       "      <th>Age</th>\n",
       "      <th>Tenure</th>\n",
       "      <th>Balance</th>\n",
       "      <th>NumOfProducts</th>\n",
       "      <th>HasCrCard</th>\n",
       "      <th>IsActiveMember</th>\n",
       "      <th>EstimatedSalary</th>\n",
       "      <th>Exited</th>\n",
       "    </tr>\n",
       "  </thead>\n",
       "  <tbody>\n",
       "    <tr>\n",
       "      <th>0</th>\n",
       "      <td>15634602</td>\n",
       "      <td>Hargrave</td>\n",
       "      <td>619</td>\n",
       "      <td>France</td>\n",
       "      <td>Female</td>\n",
       "      <td>42</td>\n",
       "      <td>2</td>\n",
       "      <td>0.00</td>\n",
       "      <td>1</td>\n",
       "      <td>1</td>\n",
       "      <td>1</td>\n",
       "      <td>101348.88</td>\n",
       "      <td>1</td>\n",
       "    </tr>\n",
       "    <tr>\n",
       "      <th>1</th>\n",
       "      <td>15647311</td>\n",
       "      <td>Hill</td>\n",
       "      <td>608</td>\n",
       "      <td>Spain</td>\n",
       "      <td>Female</td>\n",
       "      <td>41</td>\n",
       "      <td>1</td>\n",
       "      <td>83807.86</td>\n",
       "      <td>1</td>\n",
       "      <td>0</td>\n",
       "      <td>1</td>\n",
       "      <td>112542.58</td>\n",
       "      <td>0</td>\n",
       "    </tr>\n",
       "    <tr>\n",
       "      <th>2</th>\n",
       "      <td>15619304</td>\n",
       "      <td>Onio</td>\n",
       "      <td>502</td>\n",
       "      <td>France</td>\n",
       "      <td>Female</td>\n",
       "      <td>42</td>\n",
       "      <td>8</td>\n",
       "      <td>159660.80</td>\n",
       "      <td>3</td>\n",
       "      <td>1</td>\n",
       "      <td>0</td>\n",
       "      <td>113931.57</td>\n",
       "      <td>1</td>\n",
       "    </tr>\n",
       "    <tr>\n",
       "      <th>3</th>\n",
       "      <td>15701354</td>\n",
       "      <td>Boni</td>\n",
       "      <td>699</td>\n",
       "      <td>France</td>\n",
       "      <td>Female</td>\n",
       "      <td>39</td>\n",
       "      <td>1</td>\n",
       "      <td>0.00</td>\n",
       "      <td>2</td>\n",
       "      <td>0</td>\n",
       "      <td>0</td>\n",
       "      <td>93826.63</td>\n",
       "      <td>0</td>\n",
       "    </tr>\n",
       "    <tr>\n",
       "      <th>4</th>\n",
       "      <td>15737888</td>\n",
       "      <td>Mitchell</td>\n",
       "      <td>850</td>\n",
       "      <td>Spain</td>\n",
       "      <td>Female</td>\n",
       "      <td>43</td>\n",
       "      <td>2</td>\n",
       "      <td>125510.82</td>\n",
       "      <td>1</td>\n",
       "      <td>1</td>\n",
       "      <td>1</td>\n",
       "      <td>79084.10</td>\n",
       "      <td>0</td>\n",
       "    </tr>\n",
       "  </tbody>\n",
       "</table>\n",
       "</div>"
      ],
      "text/plain": [
       "   CustomerId   Surname  CreditScore Geography  Gender  Age  Tenure  \\\n",
       "0    15634602  Hargrave          619    France  Female   42       2   \n",
       "1    15647311      Hill          608     Spain  Female   41       1   \n",
       "2    15619304      Onio          502    France  Female   42       8   \n",
       "3    15701354      Boni          699    France  Female   39       1   \n",
       "4    15737888  Mitchell          850     Spain  Female   43       2   \n",
       "\n",
       "     Balance  NumOfProducts  HasCrCard  IsActiveMember  EstimatedSalary  \\\n",
       "0       0.00              1          1               1        101348.88   \n",
       "1   83807.86              1          0               1        112542.58   \n",
       "2  159660.80              3          1               0        113931.57   \n",
       "3       0.00              2          0               0         93826.63   \n",
       "4  125510.82              1          1               1         79084.10   \n",
       "\n",
       "   Exited  \n",
       "0       1  \n",
       "1       0  \n",
       "2       1  \n",
       "3       0  \n",
       "4       0  "
      ]
     },
     "metadata": {},
     "output_type": "display_data"
    }
   ],
   "source": [
    "query =\"SELECT* FROM Clients_Profile LIMIT 5\"\n",
    "dff =pd.read_sql(query,conn)\n",
    "display(dff.head(5))"
   ]
  },
  {
   "cell_type": "markdown",
   "id": "210a93f2-09e2-44c3-851e-bceeed5e4e98",
   "metadata": {},
   "source": [
    "#### b) How many clients does the Bank serve?"
   ]
  },
  {
   "cell_type": "code",
   "execution_count": 9,
   "id": "58d45669-941f-4c78-b379-1c620208d398",
   "metadata": {},
   "outputs": [
    {
     "name": "stdout",
     "output_type": "stream",
     "text": [
      "The bank serves 10000 customers\n"
     ]
    }
   ],
   "source": [
    "cursor.execute(\"SELECT COUNT(DISTINCT CustomerId) FROM Clients_Profile\")\n",
    "distinct_count =cursor.fetchone()[0]\n",
    "print(f\"The bank serves {distinct_count} customers\")"
   ]
  },
  {
   "cell_type": "markdown",
   "id": "81ba254f-8b39-45db-a35e-367ca038bf3d",
   "metadata": {},
   "source": [
    "#### c) Count of Customers by Geography?"
   ]
  },
  {
   "cell_type": "code",
   "execution_count": 11,
   "id": "38b67393-07d3-433d-a146-c2e191ac3a76",
   "metadata": {},
   "outputs": [
    {
     "data": {
      "text/html": [
       "<div>\n",
       "<style scoped>\n",
       "    .dataframe tbody tr th:only-of-type {\n",
       "        vertical-align: middle;\n",
       "    }\n",
       "\n",
       "    .dataframe tbody tr th {\n",
       "        vertical-align: top;\n",
       "    }\n",
       "\n",
       "    .dataframe thead th {\n",
       "        text-align: right;\n",
       "    }\n",
       "</style>\n",
       "<table border=\"1\" class=\"dataframe\">\n",
       "  <thead>\n",
       "    <tr style=\"text-align: right;\">\n",
       "      <th></th>\n",
       "      <th>Geography</th>\n",
       "      <th>Customer_Count</th>\n",
       "    </tr>\n",
       "  </thead>\n",
       "  <tbody>\n",
       "    <tr>\n",
       "      <th>0</th>\n",
       "      <td>France</td>\n",
       "      <td>5014</td>\n",
       "    </tr>\n",
       "    <tr>\n",
       "      <th>1</th>\n",
       "      <td>Germany</td>\n",
       "      <td>2509</td>\n",
       "    </tr>\n",
       "    <tr>\n",
       "      <th>2</th>\n",
       "      <td>Spain</td>\n",
       "      <td>2477</td>\n",
       "    </tr>\n",
       "  </tbody>\n",
       "</table>\n",
       "</div>"
      ],
      "text/plain": [
       "  Geography  Customer_Count\n",
       "0    France            5014\n",
       "1   Germany            2509\n",
       "2     Spain            2477"
      ]
     },
     "metadata": {},
     "output_type": "display_data"
    }
   ],
   "source": [
    "query =\"\"\"\n",
    "SELECT Geography, COUNT(*) as Customer_Count\n",
    "FROM Clients_Profile\n",
    "GROUP BY Geography\n",
    "ORDER BY Customer_Count DESC\n",
    "\"\"\"\n",
    "dff =pd.read_sql(query,conn)\n",
    "display(dff)"
   ]
  },
  {
   "cell_type": "markdown",
   "id": "6e464174-1303-4d9e-9944-b0cc0e48b73d",
   "metadata": {},
   "source": [
    "#### d) Count of Customers by Gender"
   ]
  },
  {
   "cell_type": "code",
   "execution_count": 14,
   "id": "2631a9a3-69da-4afa-94bd-9c944143d0f8",
   "metadata": {},
   "outputs": [
    {
     "data": {
      "text/html": [
       "<div>\n",
       "<style scoped>\n",
       "    .dataframe tbody tr th:only-of-type {\n",
       "        vertical-align: middle;\n",
       "    }\n",
       "\n",
       "    .dataframe tbody tr th {\n",
       "        vertical-align: top;\n",
       "    }\n",
       "\n",
       "    .dataframe thead th {\n",
       "        text-align: right;\n",
       "    }\n",
       "</style>\n",
       "<table border=\"1\" class=\"dataframe\">\n",
       "  <thead>\n",
       "    <tr style=\"text-align: right;\">\n",
       "      <th></th>\n",
       "      <th>Gender</th>\n",
       "      <th>Customer_Count</th>\n",
       "    </tr>\n",
       "  </thead>\n",
       "  <tbody>\n",
       "    <tr>\n",
       "      <th>0</th>\n",
       "      <td>Male</td>\n",
       "      <td>5457</td>\n",
       "    </tr>\n",
       "    <tr>\n",
       "      <th>1</th>\n",
       "      <td>Female</td>\n",
       "      <td>4543</td>\n",
       "    </tr>\n",
       "  </tbody>\n",
       "</table>\n",
       "</div>"
      ],
      "text/plain": [
       "   Gender  Customer_Count\n",
       "0    Male            5457\n",
       "1  Female            4543"
      ]
     },
     "metadata": {},
     "output_type": "display_data"
    }
   ],
   "source": [
    "query =\"\"\"\n",
    "SELECT Gender, COUNT(*) as Customer_Count\n",
    "FROM Clients_Profile\n",
    "GROUP BY Gender\n",
    "ORDER BY Customer_Count DESC\n",
    "\"\"\"\n",
    "dff =pd.read_sql(query,conn)\n",
    "display(dff)"
   ]
  },
  {
   "cell_type": "markdown",
   "id": "f7f138da-1b7c-4e87-b002-42197c88009d",
   "metadata": {},
   "source": [
    "#### e) How many customers have Exited/Churned and whats the Churn Rate?"
   ]
  },
  {
   "cell_type": "code",
   "execution_count": 10,
   "id": "a4e0b618-faf7-41ac-96e1-8d489cc71a84",
   "metadata": {},
   "outputs": [
    {
     "name": "stdout",
     "output_type": "stream",
     "text": [
      "Out of 10000 customers, 2037 have exited the bank\n",
      "\n",
      "Churn Rate: 20.37%\n"
     ]
    }
   ],
   "source": [
    "cursor.execute(\"SELECT * FROM Clients_Profile WHERE Exited = 1\")\n",
    "exited =len(cursor.fetchall())\n",
    "print(f\"Out of {distinct_count} customers, {exited} have exited the bank\")\n",
    "print()\n",
    "print(f\"Churn Rate: {((exited/10000) * 100):.2f}%\")"
   ]
  },
  {
   "cell_type": "markdown",
   "id": "b7ccbe87-09f8-4819-b9e1-450f134d07ab",
   "metadata": {},
   "source": [
    "#### f) Churn rate by Gender"
   ]
  },
  {
   "cell_type": "code",
   "execution_count": 16,
   "id": "4ccc85d8-5838-478f-85df-bbbced9b81e9",
   "metadata": {},
   "outputs": [
    {
     "data": {
      "text/html": [
       "<div>\n",
       "<style scoped>\n",
       "    .dataframe tbody tr th:only-of-type {\n",
       "        vertical-align: middle;\n",
       "    }\n",
       "\n",
       "    .dataframe tbody tr th {\n",
       "        vertical-align: top;\n",
       "    }\n",
       "\n",
       "    .dataframe thead th {\n",
       "        text-align: right;\n",
       "    }\n",
       "</style>\n",
       "<table border=\"1\" class=\"dataframe\">\n",
       "  <thead>\n",
       "    <tr style=\"text-align: right;\">\n",
       "      <th></th>\n",
       "      <th>Gender</th>\n",
       "      <th>Churned_Count</th>\n",
       "    </tr>\n",
       "  </thead>\n",
       "  <tbody>\n",
       "    <tr>\n",
       "      <th>0</th>\n",
       "      <td>Female</td>\n",
       "      <td>1139</td>\n",
       "    </tr>\n",
       "    <tr>\n",
       "      <th>1</th>\n",
       "      <td>Male</td>\n",
       "      <td>898</td>\n",
       "    </tr>\n",
       "  </tbody>\n",
       "</table>\n",
       "</div>"
      ],
      "text/plain": [
       "   Gender  Churned_Count\n",
       "0  Female           1139\n",
       "1    Male            898"
      ]
     },
     "metadata": {},
     "output_type": "display_data"
    }
   ],
   "source": [
    "query =\"\"\"\n",
    "SELECT Gender,COUNT(*) as Churned_Count\n",
    "FROM Clients_Profile\n",
    "WHERE Exited = 1\n",
    "GROUP BY Gender\n",
    "ORDER BY Churned_Count DESC\n",
    "\"\"\"\n",
    "dff =pd.read_sql(query,conn)\n",
    "display(dff.head())"
   ]
  },
  {
   "cell_type": "code",
   "execution_count": 17,
   "id": "f1e250dc-e9b0-4fe4-af37-d13695cabe5d",
   "metadata": {},
   "outputs": [
    {
     "data": {
      "text/html": [
       "<div>\n",
       "<style scoped>\n",
       "    .dataframe tbody tr th:only-of-type {\n",
       "        vertical-align: middle;\n",
       "    }\n",
       "\n",
       "    .dataframe tbody tr th {\n",
       "        vertical-align: top;\n",
       "    }\n",
       "\n",
       "    .dataframe thead th {\n",
       "        text-align: right;\n",
       "    }\n",
       "</style>\n",
       "<table border=\"1\" class=\"dataframe\">\n",
       "  <thead>\n",
       "    <tr style=\"text-align: right;\">\n",
       "      <th></th>\n",
       "      <th>Geography</th>\n",
       "      <th>Churned_Count</th>\n",
       "    </tr>\n",
       "  </thead>\n",
       "  <tbody>\n",
       "    <tr>\n",
       "      <th>0</th>\n",
       "      <td>Germany</td>\n",
       "      <td>814</td>\n",
       "    </tr>\n",
       "    <tr>\n",
       "      <th>1</th>\n",
       "      <td>France</td>\n",
       "      <td>810</td>\n",
       "    </tr>\n",
       "    <tr>\n",
       "      <th>2</th>\n",
       "      <td>Spain</td>\n",
       "      <td>413</td>\n",
       "    </tr>\n",
       "  </tbody>\n",
       "</table>\n",
       "</div>"
      ],
      "text/plain": [
       "  Geography  Churned_Count\n",
       "0   Germany            814\n",
       "1    France            810\n",
       "2     Spain            413"
      ]
     },
     "metadata": {},
     "output_type": "display_data"
    }
   ],
   "source": [
    "query =\"\"\"\n",
    "SELECT Geography,COUNT(*) as Churned_Count\n",
    "FROM Clients_Profile\n",
    "WHERE Exited = 1\n",
    "GROUP BY Geography\n",
    "ORDER BY Churned_Count DESC\n",
    "\"\"\"\n",
    "dff =pd.read_sql(query,conn)\n",
    "display(dff.head())"
   ]
  },
  {
   "cell_type": "markdown",
   "id": "c04cd820-d95c-4cac-af7f-5798f04b5b0c",
   "metadata": {},
   "source": [
    "#### Age Distribution"
   ]
  },
  {
   "cell_type": "code",
   "execution_count": 22,
   "id": "26e08bdc-3628-4f14-9ddb-4388ea199c8b",
   "metadata": {},
   "outputs": [
    {
     "name": "stdout",
     "output_type": "stream",
     "text": [
      "\n",
      "The oldest customer is 92 years old\n",
      "\n",
      "The youngest customer is 18 years old\n"
     ]
    }
   ],
   "source": [
    "cursor.execute(\"SELECT MAX(Age) FROM Clients_Profile\")\n",
    "max_age =cursor.fetchone()[0]\n",
    "cursor.execute(\"SELECT MIN(Age) FROM Clients_Profile\")\n",
    "min_age =cursor.fetchone()[0]\n",
    "print(f\"\\nThe oldest customer is {max_age} years old\")\n",
    "print(f\"\\nThe youngest customer is {min_age} years old\")"
   ]
  },
  {
   "cell_type": "code",
   "execution_count": 26,
   "id": "2d4651d0-5501-4ebf-a4cf-e813976b6fe5",
   "metadata": {},
   "outputs": [
    {
     "data": {
      "text/html": [
       "<div>\n",
       "<style scoped>\n",
       "    .dataframe tbody tr th:only-of-type {\n",
       "        vertical-align: middle;\n",
       "    }\n",
       "\n",
       "    .dataframe tbody tr th {\n",
       "        vertical-align: top;\n",
       "    }\n",
       "\n",
       "    .dataframe thead th {\n",
       "        text-align: right;\n",
       "    }\n",
       "</style>\n",
       "<table border=\"1\" class=\"dataframe\">\n",
       "  <thead>\n",
       "    <tr style=\"text-align: right;\">\n",
       "      <th></th>\n",
       "      <th>Age_Group</th>\n",
       "      <th>Churn_Count</th>\n",
       "    </tr>\n",
       "  </thead>\n",
       "  <tbody>\n",
       "    <tr>\n",
       "      <th>0</th>\n",
       "      <td>31-50</td>\n",
       "      <td>1326</td>\n",
       "    </tr>\n",
       "    <tr>\n",
       "      <th>1</th>\n",
       "      <td>51-60</td>\n",
       "      <td>448</td>\n",
       "    </tr>\n",
       "    <tr>\n",
       "      <th>2</th>\n",
       "      <td>18-30</td>\n",
       "      <td>148</td>\n",
       "    </tr>\n",
       "    <tr>\n",
       "      <th>3</th>\n",
       "      <td>60+</td>\n",
       "      <td>115</td>\n",
       "    </tr>\n",
       "  </tbody>\n",
       "</table>\n",
       "</div>"
      ],
      "text/plain": [
       "  Age_Group  Churn_Count\n",
       "0     31-50         1326\n",
       "1     51-60          448\n",
       "2     18-30          148\n",
       "3       60+          115"
      ]
     },
     "metadata": {},
     "output_type": "display_data"
    }
   ],
   "source": [
    "query =\"\"\"\n",
    "SELECT \n",
    "    CASE\n",
    "        WHEN Age BETWEEN 18 AND 30 THEN '18-30'\n",
    "        WHEN Age BETWEEN 31 AND 50 THEN '31-50'\n",
    "        WHEN Age BETWEEN 51 AND 60 THEN '51-60'\n",
    "        ELSE '60+'\n",
    "    END AS Age_Group,COUNT(*) AS Churn_Count\n",
    "FROM Clients_Profile\n",
    "WHERE Exited = 1\n",
    "GROUP BY Age_Group\n",
    "ORDER BY Churn_Count DESC\n",
    "\"\"\"\n",
    "dff =pd.read_sql(query,conn)\n",
    "display(dff.head())"
   ]
  },
  {
   "cell_type": "markdown",
   "id": "4211639f-6f14-45c8-b214-b51eef275321",
   "metadata": {},
   "source": [
    "#### Salary Distribution"
   ]
  },
  {
   "cell_type": "code",
   "execution_count": 31,
   "id": "58318637-531a-49b4-9804-30ed72e2acee",
   "metadata": {},
   "outputs": [
    {
     "name": "stdout",
     "output_type": "stream",
     "text": [
      "\n",
      "The highest salary of a customer is $199992.48\n",
      "\n",
      "The lowest salary of a customer is $11.58\n"
     ]
    }
   ],
   "source": [
    "cursor.execute(\"SELECT MAX(EstimatedSalary) FROM Clients_Profile\")\n",
    "max_salary =cursor.fetchone()[0]\n",
    "cursor.execute(\"SELECT MIN(EstimatedSalary) FROM Clients_Profile\")\n",
    "min_salary =cursor.fetchone()[0]\n",
    "print(f\"\\nThe highest salary of a customer is ${max_salary}\")\n",
    "print(f\"\\nThe lowest salary of a customer is ${min_salary}\")"
   ]
  },
  {
   "cell_type": "code",
   "execution_count": 33,
   "id": "1bc42277-d38b-486a-92a2-22626cab7b39",
   "metadata": {},
   "outputs": [
    {
     "data": {
      "text/html": [
       "<div>\n",
       "<style scoped>\n",
       "    .dataframe tbody tr th:only-of-type {\n",
       "        vertical-align: middle;\n",
       "    }\n",
       "\n",
       "    .dataframe tbody tr th {\n",
       "        vertical-align: top;\n",
       "    }\n",
       "\n",
       "    .dataframe thead th {\n",
       "        text-align: right;\n",
       "    }\n",
       "</style>\n",
       "<table border=\"1\" class=\"dataframe\">\n",
       "  <thead>\n",
       "    <tr style=\"text-align: right;\">\n",
       "      <th></th>\n",
       "      <th>Salary_Group</th>\n",
       "      <th>Churn_Count</th>\n",
       "    </tr>\n",
       "  </thead>\n",
       "  <tbody>\n",
       "    <tr>\n",
       "      <th>0</th>\n",
       "      <td>&lt;20K</td>\n",
       "      <td>190</td>\n",
       "    </tr>\n",
       "    <tr>\n",
       "      <th>1</th>\n",
       "      <td>20K-50K</td>\n",
       "      <td>279</td>\n",
       "    </tr>\n",
       "    <tr>\n",
       "      <th>2</th>\n",
       "      <td>50K-100K</td>\n",
       "      <td>498</td>\n",
       "    </tr>\n",
       "    <tr>\n",
       "      <th>3</th>\n",
       "      <td>100K-150K</td>\n",
       "      <td>503</td>\n",
       "    </tr>\n",
       "    <tr>\n",
       "      <th>4</th>\n",
       "      <td>150K-200K</td>\n",
       "      <td>567</td>\n",
       "    </tr>\n",
       "  </tbody>\n",
       "</table>\n",
       "</div>"
      ],
      "text/plain": [
       "  Salary_Group  Churn_Count\n",
       "0         <20K          190\n",
       "1      20K-50K          279\n",
       "2     50K-100K          498\n",
       "3    100K-150K          503\n",
       "4    150K-200K          567"
      ]
     },
     "metadata": {},
     "output_type": "display_data"
    }
   ],
   "source": [
    "query =\"\"\"\n",
    "SELECT\n",
    "    CASE\n",
    "        WHEN EstimatedSalary BETWEEN 10 AND 19000 THEN '<20K'\n",
    "        WHEN EstimatedSalary BETWEEN 20000 AND 49000 THEN '20K-50K'\n",
    "        WHEN EstimatedSalary BETWEEN 50000 AND 99000 THEN '50K-100K'\n",
    "        WHEN EstimatedSalary BETWEEN 100000 AND 149000 THEN '100K-150K'\n",
    "        ELSE '150K-200K'\n",
    "    END AS Salary_Group,COUNT(*) AS Churn_Count\n",
    "FROM Clients_Profile\n",
    "WHERE Exited = 1\n",
    "GROUP BY Salary_Group\n",
    "ORDER BY Churn_Count\n",
    "\"\"\"\n",
    "dff =pd.read_sql(query,conn)\n",
    "display(dff.head())"
   ]
  },
  {
   "cell_type": "markdown",
   "id": "bae6bbe9-8c3a-4d5c-a61a-daf95f96ac00",
   "metadata": {},
   "source": [
    "#### Credit Score Distribution"
   ]
  },
  {
   "cell_type": "code",
   "execution_count": 34,
   "id": "fdd8e237-0946-4465-a6b4-5c7cb20b5f20",
   "metadata": {},
   "outputs": [
    {
     "name": "stdout",
     "output_type": "stream",
     "text": [
      "\n",
      "The highest credit score is 850\n",
      "\n",
      "The lowest credit score is 350\n"
     ]
    }
   ],
   "source": [
    "cursor.execute(\"SELECT MAX(CreditScore) FROM Clients_Profile\")\n",
    "max_score =cursor.fetchone()[0]\n",
    "cursor.execute(\"SELECT MIN(CreditScore) FROM Clients_Profile\")\n",
    "min_score =cursor.fetchone()[0]\n",
    "print(f\"\\nThe highest credit score is {max_score}\")\n",
    "print(f\"\\nThe lowest credit score is {min_score}\")"
   ]
  },
  {
   "cell_type": "code",
   "execution_count": 38,
   "id": "eeed5a81-b10e-48a5-886e-efea1c95d036",
   "metadata": {},
   "outputs": [
    {
     "data": {
      "text/html": [
       "<div>\n",
       "<style scoped>\n",
       "    .dataframe tbody tr th:only-of-type {\n",
       "        vertical-align: middle;\n",
       "    }\n",
       "\n",
       "    .dataframe tbody tr th {\n",
       "        vertical-align: top;\n",
       "    }\n",
       "\n",
       "    .dataframe thead th {\n",
       "        text-align: right;\n",
       "    }\n",
       "</style>\n",
       "<table border=\"1\" class=\"dataframe\">\n",
       "  <thead>\n",
       "    <tr style=\"text-align: right;\">\n",
       "      <th></th>\n",
       "      <th>CreditScore_Group</th>\n",
       "      <th>Churn_Count</th>\n",
       "    </tr>\n",
       "  </thead>\n",
       "  <tbody>\n",
       "    <tr>\n",
       "      <th>0</th>\n",
       "      <td>Average</td>\n",
       "      <td>1263</td>\n",
       "    </tr>\n",
       "    <tr>\n",
       "      <th>1</th>\n",
       "      <td>High</td>\n",
       "      <td>624</td>\n",
       "    </tr>\n",
       "    <tr>\n",
       "      <th>2</th>\n",
       "      <td>Low</td>\n",
       "      <td>150</td>\n",
       "    </tr>\n",
       "  </tbody>\n",
       "</table>\n",
       "</div>"
      ],
      "text/plain": [
       "  CreditScore_Group  Churn_Count\n",
       "0           Average         1263\n",
       "1              High          624\n",
       "2               Low          150"
      ]
     },
     "metadata": {},
     "output_type": "display_data"
    }
   ],
   "source": [
    "query =\"\"\"\n",
    "SELECT\n",
    "    CASE\n",
    "        WHEN CreditScore BETWEEN 350 AND 499 THEN 'Low'\n",
    "        WHEN CreditScore BETWEEN 500 AND 699 THEN 'Average'\n",
    "        ELSE 'High'\n",
    "    END AS CreditScore_Group,COUNT(*) AS Churn_Count\n",
    "FROM Clients_Profile\n",
    "WHERE Exited = 1\n",
    "GROUP BY CreditScore_Group\n",
    "ORDER BY Churn_Count DESC\n",
    "\"\"\"\n",
    "dff =pd.read_sql(query,conn)\n",
    "display(dff.head())"
   ]
  },
  {
   "cell_type": "code",
   "execution_count": 40,
   "id": "ed8625fb-caf0-4550-a2c5-4542fe88ceeb",
   "metadata": {},
   "outputs": [
    {
     "name": "stdout",
     "output_type": "stream",
     "text": [
      "\n",
      "The longest years a customer has stayed with the bank is 10\n",
      "\n",
      "The shortest years a customer has stayed with the bank is 0\n"
     ]
    }
   ],
   "source": [
    "cursor.execute(\"SELECT MAX(Tenure) FROM Clients_Profile\")\n",
    "max_tenure =cursor.fetchone()[0]\n",
    "cursor.execute(\"SELECT MIN(Tenure) FROM Clients_Profile\")\n",
    "min_tenure =cursor.fetchone()[0]\n",
    "print(f\"\\nThe longest years a customer has stayed with the bank is {max_tenure}\")\n",
    "print(f\"\\nThe shortest years a customer has stayed with the bank is {min_tenure}\")"
   ]
  },
  {
   "cell_type": "code",
   "execution_count": 43,
   "id": "9947baaa-58fc-4785-971e-bf5abe57e545",
   "metadata": {},
   "outputs": [
    {
     "data": {
      "text/html": [
       "<div>\n",
       "<style scoped>\n",
       "    .dataframe tbody tr th:only-of-type {\n",
       "        vertical-align: middle;\n",
       "    }\n",
       "\n",
       "    .dataframe tbody tr th {\n",
       "        vertical-align: top;\n",
       "    }\n",
       "\n",
       "    .dataframe thead th {\n",
       "        text-align: right;\n",
       "    }\n",
       "</style>\n",
       "<table border=\"1\" class=\"dataframe\">\n",
       "  <thead>\n",
       "    <tr style=\"text-align: right;\">\n",
       "      <th></th>\n",
       "      <th>Tenure_Group</th>\n",
       "      <th>Churn_Count</th>\n",
       "    </tr>\n",
       "  </thead>\n",
       "  <tbody>\n",
       "    <tr>\n",
       "      <th>0</th>\n",
       "      <td>4-7</td>\n",
       "      <td>785</td>\n",
       "    </tr>\n",
       "    <tr>\n",
       "      <th>1</th>\n",
       "      <td>0-3</td>\n",
       "      <td>741</td>\n",
       "    </tr>\n",
       "    <tr>\n",
       "      <th>2</th>\n",
       "      <td>8-10</td>\n",
       "      <td>511</td>\n",
       "    </tr>\n",
       "  </tbody>\n",
       "</table>\n",
       "</div>"
      ],
      "text/plain": [
       "  Tenure_Group  Churn_Count\n",
       "0          4-7          785\n",
       "1          0-3          741\n",
       "2         8-10          511"
      ]
     },
     "metadata": {},
     "output_type": "display_data"
    }
   ],
   "source": [
    "query =\"\"\"\n",
    "SELECT\n",
    "    CASE\n",
    "        WHEN Tenure BETWEEN 0 AND 3 THEN '0-3'\n",
    "        WHEN Tenure BETWEEN 4 AND 7 THEN '4-7'\n",
    "        ELSE '8-10'\n",
    "    END AS Tenure_Group,COUNT(*) AS Churn_Count\n",
    "FROM Clients_Profile\n",
    "WHERE Exited = 1\n",
    "GROUP BY Tenure_Group\n",
    "ORDER BY Churn_Count DESC\n",
    "\"\"\"\n",
    "dff =pd.read_sql(query,conn)\n",
    "display(dff)"
   ]
  },
  {
   "cell_type": "markdown",
   "id": "4415c33d-cea4-4537-8e61-78453fabbb89",
   "metadata": {},
   "source": [
    "#### Number of Products"
   ]
  },
  {
   "cell_type": "code",
   "execution_count": 44,
   "id": "6e9b723d-2bd1-44c0-a9e8-ea1ba9537a45",
   "metadata": {},
   "outputs": [
    {
     "name": "stdout",
     "output_type": "stream",
     "text": [
      "The bank offers 4 types of products\n"
     ]
    }
   ],
   "source": [
    "cursor.execute(\"SELECT MAX(NumOfProducts) FROM Clients_Profile\")\n",
    "nums =cursor.fetchone()[0]\n",
    "print(f\"The bank offers {nums} types of products\")"
   ]
  },
  {
   "cell_type": "code",
   "execution_count": 48,
   "id": "4b991e64-5687-4627-8ed6-8c26c31a7e1f",
   "metadata": {},
   "outputs": [
    {
     "data": {
      "text/html": [
       "<div>\n",
       "<style scoped>\n",
       "    .dataframe tbody tr th:only-of-type {\n",
       "        vertical-align: middle;\n",
       "    }\n",
       "\n",
       "    .dataframe tbody tr th {\n",
       "        vertical-align: top;\n",
       "    }\n",
       "\n",
       "    .dataframe thead th {\n",
       "        text-align: right;\n",
       "    }\n",
       "</style>\n",
       "<table border=\"1\" class=\"dataframe\">\n",
       "  <thead>\n",
       "    <tr style=\"text-align: right;\">\n",
       "      <th></th>\n",
       "      <th>NumOfProducts</th>\n",
       "      <th>Churn_Count</th>\n",
       "    </tr>\n",
       "  </thead>\n",
       "  <tbody>\n",
       "    <tr>\n",
       "      <th>0</th>\n",
       "      <td>1</td>\n",
       "      <td>1409</td>\n",
       "    </tr>\n",
       "    <tr>\n",
       "      <th>1</th>\n",
       "      <td>2</td>\n",
       "      <td>348</td>\n",
       "    </tr>\n",
       "    <tr>\n",
       "      <th>2</th>\n",
       "      <td>3</td>\n",
       "      <td>220</td>\n",
       "    </tr>\n",
       "    <tr>\n",
       "      <th>3</th>\n",
       "      <td>4</td>\n",
       "      <td>60</td>\n",
       "    </tr>\n",
       "  </tbody>\n",
       "</table>\n",
       "</div>"
      ],
      "text/plain": [
       "   NumOfProducts  Churn_Count\n",
       "0              1         1409\n",
       "1              2          348\n",
       "2              3          220\n",
       "3              4           60"
      ]
     },
     "metadata": {},
     "output_type": "display_data"
    }
   ],
   "source": [
    "query =\"\"\"\n",
    "SELECT NumOfProducts,COUNT(*) as Churn_Count\n",
    "FROM Clients_Profile\n",
    "WHERE Exited = 1 \n",
    "GROUP BY NumOfProducts\n",
    "ORDER BY Churn_Count DESC\n",
    "\"\"\"\n",
    "dff =pd.read_sql(query,conn)\n",
    "display(dff.head())"
   ]
  },
  {
   "cell_type": "markdown",
   "id": "992e97ce-042e-4044-893d-d18974d22047",
   "metadata": {},
   "source": [
    "#### Has Credit Card"
   ]
  },
  {
   "cell_type": "code",
   "execution_count": 50,
   "id": "9db16604-debf-4216-824d-1d45f899a4ed",
   "metadata": {},
   "outputs": [
    {
     "data": {
      "text/html": [
       "<div>\n",
       "<style scoped>\n",
       "    .dataframe tbody tr th:only-of-type {\n",
       "        vertical-align: middle;\n",
       "    }\n",
       "\n",
       "    .dataframe tbody tr th {\n",
       "        vertical-align: top;\n",
       "    }\n",
       "\n",
       "    .dataframe thead th {\n",
       "        text-align: right;\n",
       "    }\n",
       "</style>\n",
       "<table border=\"1\" class=\"dataframe\">\n",
       "  <thead>\n",
       "    <tr style=\"text-align: right;\">\n",
       "      <th></th>\n",
       "      <th>HasCrCard</th>\n",
       "      <th>Churn_Count</th>\n",
       "    </tr>\n",
       "  </thead>\n",
       "  <tbody>\n",
       "    <tr>\n",
       "      <th>0</th>\n",
       "      <td>1</td>\n",
       "      <td>1424</td>\n",
       "    </tr>\n",
       "    <tr>\n",
       "      <th>1</th>\n",
       "      <td>0</td>\n",
       "      <td>613</td>\n",
       "    </tr>\n",
       "  </tbody>\n",
       "</table>\n",
       "</div>"
      ],
      "text/plain": [
       "   HasCrCard  Churn_Count\n",
       "0          1         1424\n",
       "1          0          613"
      ]
     },
     "metadata": {},
     "output_type": "display_data"
    }
   ],
   "source": [
    "query =\"\"\"\n",
    "SELECT HasCrCard,COUNT(*) AS Churn_Count\n",
    "FROM Clients_Profile\n",
    "WHERE Exited = 1\n",
    "GROUP BY HasCrCard\n",
    "ORDER BY Churn_Count DESC\n",
    "\"\"\"\n",
    "dff =pd.read_sql(query,conn)\n",
    "display(dff.head())"
   ]
  },
  {
   "cell_type": "markdown",
   "id": "42d4c4f3-96a5-4bda-b2e5-dc469ff22f93",
   "metadata": {},
   "source": [
    "### Is Active Members"
   ]
  },
  {
   "cell_type": "code",
   "execution_count": 51,
   "id": "69d03cc4-61fa-469a-9978-41078072259a",
   "metadata": {},
   "outputs": [
    {
     "data": {
      "text/html": [
       "<div>\n",
       "<style scoped>\n",
       "    .dataframe tbody tr th:only-of-type {\n",
       "        vertical-align: middle;\n",
       "    }\n",
       "\n",
       "    .dataframe tbody tr th {\n",
       "        vertical-align: top;\n",
       "    }\n",
       "\n",
       "    .dataframe thead th {\n",
       "        text-align: right;\n",
       "    }\n",
       "</style>\n",
       "<table border=\"1\" class=\"dataframe\">\n",
       "  <thead>\n",
       "    <tr style=\"text-align: right;\">\n",
       "      <th></th>\n",
       "      <th>IsActiveMember</th>\n",
       "      <th>Churn_Count</th>\n",
       "    </tr>\n",
       "  </thead>\n",
       "  <tbody>\n",
       "    <tr>\n",
       "      <th>0</th>\n",
       "      <td>0</td>\n",
       "      <td>1302</td>\n",
       "    </tr>\n",
       "    <tr>\n",
       "      <th>1</th>\n",
       "      <td>1</td>\n",
       "      <td>735</td>\n",
       "    </tr>\n",
       "  </tbody>\n",
       "</table>\n",
       "</div>"
      ],
      "text/plain": [
       "   IsActiveMember  Churn_Count\n",
       "0               0         1302\n",
       "1               1          735"
      ]
     },
     "metadata": {},
     "output_type": "display_data"
    }
   ],
   "source": [
    "query =\"\"\"\n",
    "SELECT IsActiveMember,COUNT(*) AS Churn_Count\n",
    "FROM Clients_Profile\n",
    "WHERE Exited = 1\n",
    "GROUP BY IsActiveMember\n",
    "ORDER BY Churn_Count DESC\n",
    "\"\"\"\n",
    "dff =pd.read_sql(query,conn)\n",
    "display(dff.head())"
   ]
  },
  {
   "cell_type": "code",
   "execution_count": 53,
   "id": "ee37df0a-41b5-4087-b72f-4dff83a265a1",
   "metadata": {},
   "outputs": [
    {
     "data": {
      "text/html": [
       "<div>\n",
       "<style scoped>\n",
       "    .dataframe tbody tr th:only-of-type {\n",
       "        vertical-align: middle;\n",
       "    }\n",
       "\n",
       "    .dataframe tbody tr th {\n",
       "        vertical-align: top;\n",
       "    }\n",
       "\n",
       "    .dataframe thead th {\n",
       "        text-align: right;\n",
       "    }\n",
       "</style>\n",
       "<table border=\"1\" class=\"dataframe\">\n",
       "  <thead>\n",
       "    <tr style=\"text-align: right;\">\n",
       "      <th></th>\n",
       "      <th>NumOfProducts</th>\n",
       "      <th>TotalCustomers</th>\n",
       "      <th>ChurnedCustomers</th>\n",
       "      <th>ChurnRate</th>\n",
       "    </tr>\n",
       "  </thead>\n",
       "  <tbody>\n",
       "    <tr>\n",
       "      <th>0</th>\n",
       "      <td>4</td>\n",
       "      <td>60</td>\n",
       "      <td>60</td>\n",
       "      <td>100.00</td>\n",
       "    </tr>\n",
       "    <tr>\n",
       "      <th>1</th>\n",
       "      <td>3</td>\n",
       "      <td>266</td>\n",
       "      <td>220</td>\n",
       "      <td>82.71</td>\n",
       "    </tr>\n",
       "    <tr>\n",
       "      <th>2</th>\n",
       "      <td>1</td>\n",
       "      <td>5084</td>\n",
       "      <td>1409</td>\n",
       "      <td>27.71</td>\n",
       "    </tr>\n",
       "    <tr>\n",
       "      <th>3</th>\n",
       "      <td>2</td>\n",
       "      <td>4590</td>\n",
       "      <td>348</td>\n",
       "      <td>7.58</td>\n",
       "    </tr>\n",
       "  </tbody>\n",
       "</table>\n",
       "</div>"
      ],
      "text/plain": [
       "   NumOfProducts  TotalCustomers  ChurnedCustomers  ChurnRate\n",
       "0              4              60                60     100.00\n",
       "1              3             266               220      82.71\n",
       "2              1            5084              1409      27.71\n",
       "3              2            4590               348       7.58"
      ]
     },
     "metadata": {},
     "output_type": "display_data"
    }
   ],
   "source": [
    "query =\"\"\"\n",
    "SELECT NumOfProducts,\n",
    "       COUNT(*) as TotalCustomers,\n",
    "       SUM(Exited) as ChurnedCustomers,\n",
    "       ROUND(100.0 * SUM(Exited) / COUNT(*), 2) as ChurnRate\n",
    "FROM Clients_Profile\n",
    "GROUP BY NumOfProducts\n",
    "ORDER BY ChurnRate DESC\n",
    "\"\"\"\n",
    "dff =pd.read_sql(query,conn)\n",
    "display(dff.head())"
   ]
  },
  {
   "cell_type": "code",
   "execution_count": null,
   "id": "6346a112-1860-4d9d-b87f-ac03ca351bfd",
   "metadata": {},
   "outputs": [],
   "source": []
  },
  {
   "cell_type": "code",
   "execution_count": 13,
   "id": "2c689d55-018e-4b2a-bdcf-1bc273f5cb2e",
   "metadata": {},
   "outputs": [
    {
     "data": {
      "text/html": [
       "<div>\n",
       "<style scoped>\n",
       "    .dataframe tbody tr th:only-of-type {\n",
       "        vertical-align: middle;\n",
       "    }\n",
       "\n",
       "    .dataframe tbody tr th {\n",
       "        vertical-align: top;\n",
       "    }\n",
       "\n",
       "    .dataframe thead th {\n",
       "        text-align: right;\n",
       "    }\n",
       "</style>\n",
       "<table border=\"1\" class=\"dataframe\">\n",
       "  <thead>\n",
       "    <tr style=\"text-align: right;\">\n",
       "      <th></th>\n",
       "      <th>CustomerId</th>\n",
       "      <th>Surname</th>\n",
       "      <th>CreditScore</th>\n",
       "      <th>Geography</th>\n",
       "      <th>Gender</th>\n",
       "      <th>Age</th>\n",
       "      <th>Tenure</th>\n",
       "      <th>Balance</th>\n",
       "      <th>NumOfProducts</th>\n",
       "      <th>HasCrCard</th>\n",
       "      <th>IsActiveMember</th>\n",
       "      <th>EstimatedSalary</th>\n",
       "      <th>Exited</th>\n",
       "    </tr>\n",
       "  </thead>\n",
       "  <tbody>\n",
       "    <tr>\n",
       "      <th>0</th>\n",
       "      <td>15634602</td>\n",
       "      <td>Hargrave</td>\n",
       "      <td>619</td>\n",
       "      <td>France</td>\n",
       "      <td>Female</td>\n",
       "      <td>42</td>\n",
       "      <td>2</td>\n",
       "      <td>0.00</td>\n",
       "      <td>1</td>\n",
       "      <td>1</td>\n",
       "      <td>1</td>\n",
       "      <td>101348.88</td>\n",
       "      <td>1</td>\n",
       "    </tr>\n",
       "    <tr>\n",
       "      <th>1</th>\n",
       "      <td>15647311</td>\n",
       "      <td>Hill</td>\n",
       "      <td>608</td>\n",
       "      <td>Spain</td>\n",
       "      <td>Female</td>\n",
       "      <td>41</td>\n",
       "      <td>1</td>\n",
       "      <td>83807.86</td>\n",
       "      <td>1</td>\n",
       "      <td>0</td>\n",
       "      <td>1</td>\n",
       "      <td>112542.58</td>\n",
       "      <td>0</td>\n",
       "    </tr>\n",
       "    <tr>\n",
       "      <th>2</th>\n",
       "      <td>15619304</td>\n",
       "      <td>Onio</td>\n",
       "      <td>502</td>\n",
       "      <td>France</td>\n",
       "      <td>Female</td>\n",
       "      <td>42</td>\n",
       "      <td>8</td>\n",
       "      <td>159660.80</td>\n",
       "      <td>3</td>\n",
       "      <td>1</td>\n",
       "      <td>0</td>\n",
       "      <td>113931.57</td>\n",
       "      <td>1</td>\n",
       "    </tr>\n",
       "    <tr>\n",
       "      <th>3</th>\n",
       "      <td>15701354</td>\n",
       "      <td>Boni</td>\n",
       "      <td>699</td>\n",
       "      <td>France</td>\n",
       "      <td>Female</td>\n",
       "      <td>39</td>\n",
       "      <td>1</td>\n",
       "      <td>0.00</td>\n",
       "      <td>2</td>\n",
       "      <td>0</td>\n",
       "      <td>0</td>\n",
       "      <td>93826.63</td>\n",
       "      <td>0</td>\n",
       "    </tr>\n",
       "    <tr>\n",
       "      <th>4</th>\n",
       "      <td>15737888</td>\n",
       "      <td>Mitchell</td>\n",
       "      <td>850</td>\n",
       "      <td>Spain</td>\n",
       "      <td>Female</td>\n",
       "      <td>43</td>\n",
       "      <td>2</td>\n",
       "      <td>125510.82</td>\n",
       "      <td>1</td>\n",
       "      <td>1</td>\n",
       "      <td>1</td>\n",
       "      <td>79084.10</td>\n",
       "      <td>0</td>\n",
       "    </tr>\n",
       "  </tbody>\n",
       "</table>\n",
       "</div>"
      ],
      "text/plain": [
       "   CustomerId   Surname  CreditScore Geography  Gender  Age  Tenure  \\\n",
       "0    15634602  Hargrave          619    France  Female   42       2   \n",
       "1    15647311      Hill          608     Spain  Female   41       1   \n",
       "2    15619304      Onio          502    France  Female   42       8   \n",
       "3    15701354      Boni          699    France  Female   39       1   \n",
       "4    15737888  Mitchell          850     Spain  Female   43       2   \n",
       "\n",
       "     Balance  NumOfProducts  HasCrCard  IsActiveMember  EstimatedSalary  \\\n",
       "0       0.00              1          1               1        101348.88   \n",
       "1   83807.86              1          0               1        112542.58   \n",
       "2  159660.80              3          1               0        113931.57   \n",
       "3       0.00              2          0               0         93826.63   \n",
       "4  125510.82              1          1               1         79084.10   \n",
       "\n",
       "   Exited  \n",
       "0       1  \n",
       "1       0  \n",
       "2       1  \n",
       "3       0  \n",
       "4       0  "
      ]
     },
     "execution_count": 13,
     "metadata": {},
     "output_type": "execute_result"
    }
   ],
   "source": [
    "df.head()"
   ]
  },
  {
   "cell_type": "code",
   "execution_count": 18,
   "id": "229827a1-70f4-4000-8885-821599f70ca9",
   "metadata": {},
   "outputs": [
    {
     "data": {
      "text/plain": [
       "92"
      ]
     },
     "execution_count": 18,
     "metadata": {},
     "output_type": "execute_result"
    }
   ],
   "source": [
    "df[\"Age\"].max()"
   ]
  },
  {
   "cell_type": "code",
   "execution_count": 19,
   "id": "af2a3fc3-2522-433d-b57d-cd75ffdd8e55",
   "metadata": {},
   "outputs": [
    {
     "data": {
      "text/plain": [
       "18"
      ]
     },
     "execution_count": 19,
     "metadata": {},
     "output_type": "execute_result"
    }
   ],
   "source": [
    "df[\"Age\"].min()"
   ]
  },
  {
   "cell_type": "code",
   "execution_count": null,
   "id": "f16be061-572b-4cf8-873d-4248811ae81b",
   "metadata": {},
   "outputs": [],
   "source": []
  }
 ],
 "metadata": {
  "kernelspec": {
   "display_name": "Python 3 (ipykernel)",
   "language": "python",
   "name": "python3"
  },
  "language_info": {
   "codemirror_mode": {
    "name": "ipython",
    "version": 3
   },
   "file_extension": ".py",
   "mimetype": "text/x-python",
   "name": "python",
   "nbconvert_exporter": "python",
   "pygments_lexer": "ipython3",
   "version": "3.12.2"
  }
 },
 "nbformat": 4,
 "nbformat_minor": 5
}
